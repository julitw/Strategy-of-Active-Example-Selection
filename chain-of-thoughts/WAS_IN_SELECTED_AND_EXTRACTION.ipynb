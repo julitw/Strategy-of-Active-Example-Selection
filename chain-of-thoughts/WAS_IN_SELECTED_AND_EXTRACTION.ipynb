{
 "cells": [
  {
   "cell_type": "code",
   "execution_count": 5,
   "id": "cc46a04b",
   "metadata": {},
   "outputs": [],
   "source": [
    "import os \n",
    "import sys\n",
    "sys.path.append(os.path.abspath(os.path.join(os.getcwd(), '..')))\n",
    "import pandas as pd # type: ignore"
   ]
  },
  {
   "cell_type": "code",
   "execution_count": 6,
   "id": "16faa277",
   "metadata": {},
   "outputs": [],
   "source": [
    "from utils import get_dataset, get_model_by_tag, get_prompt_template\n",
    "from LLMAnnotator import LLMAnnotator"
   ]
  },
  {
   "cell_type": "code",
   "execution_count": 7,
   "id": "a25ea1dc",
   "metadata": {},
   "outputs": [],
   "source": [
    "os.environ['OPENAI_API_KEY_CLARIN']=os.getenv(\"OPENAI_API_KEY_CLARIN\")\n",
    "os.environ[\"LANGCHAIN_API_KEY\"]=os.getenv(\"LANGCHAIN_API_KEY\")\n",
    "os.environ[\"LANGCHAIN_TRACING_V2\"]=\"true\"\n",
    "os.environ[\"LANGCHAIN_PROJECT\"]=os.getenv(\"LANGCHAIN_PROJECT\")\n",
    "\n",
    "token = os.getenv(\"OPENAI_API_KEY_CLARIN\")"
   ]
  },
  {
   "cell_type": "code",
   "execution_count": 12,
   "id": "e9a42ce6",
   "metadata": {},
   "outputs": [
    {
     "name": "stdout",
     "output_type": "stream",
     "text": [
      "\n",
      "\n",
      "MUMER 1 \n",
      "\n",
      "\n",
      "Zaktualizowano plik: ./results/cot_random_samples_cohere_temp0.3/llama3/yahoo_llama3_cot_random_samples_cohere_llama3_random42_60_temp0.3_exp1.csv\n",
      "\n",
      "\n",
      "MUMER 2 \n",
      "\n",
      "\n",
      "Zaktualizowano plik: ./results/cot_random_samples_cohere_temp0.3/llama3/yahoo_llama3_cot_random_samples_cohere_llama3_random42_60_temp0.3_exp2.csv\n",
      "\n",
      "\n",
      "MUMER 3 \n",
      "\n",
      "\n",
      "Zaktualizowano plik: ./results/cot_random_samples_cohere_temp0.3/llama3/yahoo_llama3_cot_random_samples_cohere_llama3_random42_60_temp0.3_exp3.csv\n",
      "\n",
      "\n",
      "MUMER 4 \n",
      "\n",
      "\n",
      "Zaktualizowano plik: ./results/cot_random_samples_cohere_temp0.3/llama3/yahoo_llama3_cot_random_samples_cohere_llama3_random42_60_temp0.3_exp4.csv\n",
      "\n",
      "\n",
      "MUMER 5 \n",
      "\n",
      "\n",
      "Zaktualizowano plik: ./results/cot_random_samples_cohere_temp0.3/llama3/yahoo_llama3_cot_random_samples_cohere_llama3_random42_60_temp0.3_exp5.csv\n"
     ]
    }
   ],
   "source": [
    "import os\n",
    "import pandas as pd\n",
    "import re\n",
    "\n",
    "def extract_bracketed_word(df, read_col, write_col):\n",
    "    def extract_last_bracketed(text):\n",
    "        matches = re.findall(r'\\[([^\\[\\]]+?)\\]', str(text))\n",
    "        return matches[-1] if matches else None\n",
    "    df[write_col] = df[read_col].apply(extract_last_bracketed)\n",
    "    return df\n",
    "\n",
    "def validate_text_column(df, df_reference):\n",
    "    reference_texts = set(df_reference['text'].unique())\n",
    "    df['was_in_selected_samples'] = df['text'].isin(reference_texts)\n",
    "    df = extract_bracketed_word(df, 'output', 'extracted_label')\n",
    "    return df\n",
    "\n",
    "for i in [1,2,3,4,5]:\n",
    "    print('\\n\\nMUMER', i, '\\n\\n')\n",
    "    \n",
    "    model_tag = 'llama3'\n",
    "    dataset_tag = 'yahoo'\n",
    "    prompt = 'cot_random_samples_cohere'\n",
    "    temp = 0.3\n",
    "    number_of_experimet = i\n",
    "    selected_samples = f'{model_tag}_random42_60'\n",
    "    \n",
    "    model = get_model_by_tag(model_tag, token, temp)\n",
    "    prompt_txt = get_prompt_template(dataset_tag, prompt)\n",
    "    examples_for_prompt = pd.read_csv(f'./selected_samples/{dataset_tag}/{selected_samples}.csv')\n",
    "\n",
    "    output_path = f'./results/{prompt}_temp{temp}/{model_tag}/{dataset_tag}_{model_tag}_{prompt}_{selected_samples}_temp{temp}_exp{number_of_experimet}.csv'\n",
    "    \n",
    "    \n",
    "    # os.makedirs(os.path.dirname(output_path), exist_ok=True)\n",
    "    \n",
    "    df_old = pd.read_csv(output_path)\n",
    "    \n",
    "    df_new = validate_text_column(df_old, examples_for_prompt)\n",
    "\n",
    "    \n",
    "    df_old.to_csv(output_path, index=False)\n",
    "    print(\"Zaktualizowano plik:\", output_path)\n",
    "\n",
    "\n"
   ]
  }
 ],
 "metadata": {
  "kernelspec": {
   "display_name": "anote",
   "language": "python",
   "name": "python3"
  },
  "language_info": {
   "codemirror_mode": {
    "name": "ipython",
    "version": 3
   },
   "file_extension": ".py",
   "mimetype": "text/x-python",
   "name": "python",
   "nbconvert_exporter": "python",
   "pygments_lexer": "ipython3",
   "version": "3.12.7"
  }
 },
 "nbformat": 4,
 "nbformat_minor": 5
}
