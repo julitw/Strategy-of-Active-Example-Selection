{
 "cells": [
  {
   "cell_type": "code",
   "execution_count": 49,
   "metadata": {},
   "outputs": [],
   "source": [
    "import sys\n",
    "import os\n",
    "sys.path.append(os.path.abspath(os.path.join(os.getcwd(), '..')))\n",
    "from utils import evaluate_predictions_from_folders"
   ]
  },
  {
   "cell_type": "code",
   "execution_count": 50,
   "metadata": {},
   "outputs": [],
   "source": [
    "\n",
    "folder_paths = [f'results/random_samples_temp0/gpt4omini', f'results/random_samples_temp0/cohere', ]"
   ]
  },
  {
   "cell_type": "code",
   "execution_count": 51,
   "metadata": {},
   "outputs": [
    {
     "name": "stderr",
     "output_type": "stream",
     "text": [
      "/home/julita/anaconda3/envs/anote/lib/python3.12/site-packages/sklearn/metrics/_classification.py:1531: UndefinedMetricWarning: Recall is ill-defined and being set to 0.0 in labels with no true samples. Use `zero_division` parameter to control this behavior.\n",
      "  _warn_prf(average, modifier, f\"{metric.capitalize()} is\", len(result))\n",
      "/home/julita/anaconda3/envs/anote/lib/python3.12/site-packages/sklearn/metrics/_classification.py:1531: UndefinedMetricWarning: Recall is ill-defined and being set to 0.0 in labels with no true samples. Use `zero_division` parameter to control this behavior.\n",
      "  _warn_prf(average, modifier, f\"{metric.capitalize()} is\", len(result))\n",
      "/home/julita/anaconda3/envs/anote/lib/python3.12/site-packages/sklearn/metrics/_classification.py:1531: UndefinedMetricWarning: Recall is ill-defined and being set to 0.0 in labels with no true samples. Use `zero_division` parameter to control this behavior.\n",
      "  _warn_prf(average, modifier, f\"{metric.capitalize()} is\", len(result))\n",
      "/home/julita/anaconda3/envs/anote/lib/python3.12/site-packages/sklearn/metrics/_classification.py:1531: UndefinedMetricWarning: Recall is ill-defined and being set to 0.0 in labels with no true samples. Use `zero_division` parameter to control this behavior.\n",
      "  _warn_prf(average, modifier, f\"{metric.capitalize()} is\", len(result))\n",
      "/home/julita/anaconda3/envs/anote/lib/python3.12/site-packages/sklearn/metrics/_classification.py:1531: UndefinedMetricWarning: Precision is ill-defined and being set to 0.0 in labels with no predicted samples. Use `zero_division` parameter to control this behavior.\n",
      "  _warn_prf(average, modifier, f\"{metric.capitalize()} is\", len(result))\n",
      "/home/julita/anaconda3/envs/anote/lib/python3.12/site-packages/sklearn/metrics/_classification.py:1531: UndefinedMetricWarning: Recall is ill-defined and being set to 0.0 in labels with no true samples. Use `zero_division` parameter to control this behavior.\n",
      "  _warn_prf(average, modifier, f\"{metric.capitalize()} is\", len(result))\n",
      "/home/julita/anaconda3/envs/anote/lib/python3.12/site-packages/sklearn/metrics/_classification.py:1531: UndefinedMetricWarning: Recall is ill-defined and being set to 0.0 in labels with no true samples. Use `zero_division` parameter to control this behavior.\n",
      "  _warn_prf(average, modifier, f\"{metric.capitalize()} is\", len(result))\n"
     ]
    },
    {
     "data": {
      "text/html": [
       "<div>\n",
       "<style scoped>\n",
       "    .dataframe tbody tr th:only-of-type {\n",
       "        vertical-align: middle;\n",
       "    }\n",
       "\n",
       "    .dataframe tbody tr th {\n",
       "        vertical-align: top;\n",
       "    }\n",
       "\n",
       "    .dataframe thead th {\n",
       "        text-align: right;\n",
       "    }\n",
       "</style>\n",
       "<table border=\"1\" class=\"dataframe\">\n",
       "  <thead>\n",
       "    <tr style=\"text-align: right;\">\n",
       "      <th></th>\n",
       "      <th>file</th>\n",
       "      <th>accuracy</th>\n",
       "      <th>f1_score</th>\n",
       "      <th>recall</th>\n",
       "      <th>precision</th>\n",
       "    </tr>\n",
       "  </thead>\n",
       "  <tbody>\n",
       "    <tr>\n",
       "      <th>6</th>\n",
       "      <td>20_newsgroups_cohere_random_samples_cot_unstab...</td>\n",
       "      <td>0.574479</td>\n",
       "      <td>0.301975</td>\n",
       "      <td>0.294654</td>\n",
       "      <td>0.367592</td>\n",
       "    </tr>\n",
       "    <tr>\n",
       "      <th>0</th>\n",
       "      <td>20_newsgroups_gpt4omini_random_samples_cot_uns...</td>\n",
       "      <td>0.694792</td>\n",
       "      <td>0.647200</td>\n",
       "      <td>0.646862</td>\n",
       "      <td>0.685054</td>\n",
       "    </tr>\n",
       "    <tr>\n",
       "      <th>7</th>\n",
       "      <td>ag_news_cohere_random_samples_cot_unstable_tem...</td>\n",
       "      <td>0.856522</td>\n",
       "      <td>0.851268</td>\n",
       "      <td>0.854301</td>\n",
       "      <td>0.867599</td>\n",
       "    </tr>\n",
       "    <tr>\n",
       "      <th>4</th>\n",
       "      <td>ag_news_gpt4omini_random_samples_cot_unstable_...</td>\n",
       "      <td>0.872826</td>\n",
       "      <td>0.871912</td>\n",
       "      <td>0.873735</td>\n",
       "      <td>0.878997</td>\n",
       "    </tr>\n",
       "    <tr>\n",
       "      <th>10</th>\n",
       "      <td>go_emotions_cohere_random_samples_cot_unstable...</td>\n",
       "      <td>0.315414</td>\n",
       "      <td>0.175047</td>\n",
       "      <td>0.169591</td>\n",
       "      <td>0.234609</td>\n",
       "    </tr>\n",
       "    <tr>\n",
       "      <th>3</th>\n",
       "      <td>go_emotions_gpt4omini_random_samples_cot_unsta...</td>\n",
       "      <td>0.368969</td>\n",
       "      <td>0.362395</td>\n",
       "      <td>0.348432</td>\n",
       "      <td>0.430798</td>\n",
       "    </tr>\n",
       "    <tr>\n",
       "      <th>11</th>\n",
       "      <td>social_media_cohere_random_samples_cot_unstabl...</td>\n",
       "      <td>0.534447</td>\n",
       "      <td>0.483437</td>\n",
       "      <td>0.551402</td>\n",
       "      <td>0.501113</td>\n",
       "    </tr>\n",
       "    <tr>\n",
       "      <th>2</th>\n",
       "      <td>social_media_gpt4omini_random_samples_cot_unst...</td>\n",
       "      <td>0.495385</td>\n",
       "      <td>0.477075</td>\n",
       "      <td>0.559598</td>\n",
       "      <td>0.537398</td>\n",
       "    </tr>\n",
       "    <tr>\n",
       "      <th>8</th>\n",
       "      <td>sst5_cohere_random_samples_cot_unstable_temp0_...</td>\n",
       "      <td>0.547872</td>\n",
       "      <td>0.545863</td>\n",
       "      <td>0.548759</td>\n",
       "      <td>0.556782</td>\n",
       "    </tr>\n",
       "    <tr>\n",
       "      <th>1</th>\n",
       "      <td>sst5_gpt4omini_random_samples_cot_unstable_tem...</td>\n",
       "      <td>0.579787</td>\n",
       "      <td>0.580863</td>\n",
       "      <td>0.580789</td>\n",
       "      <td>0.595165</td>\n",
       "    </tr>\n",
       "    <tr>\n",
       "      <th>9</th>\n",
       "      <td>yahoo_cohere_random_samples_cot_unstable_temp0...</td>\n",
       "      <td>0.698936</td>\n",
       "      <td>0.417147</td>\n",
       "      <td>0.411248</td>\n",
       "      <td>0.435028</td>\n",
       "    </tr>\n",
       "    <tr>\n",
       "      <th>5</th>\n",
       "      <td>yahoo_gpt4omini_random_samples_cot_unstable_te...</td>\n",
       "      <td>0.704255</td>\n",
       "      <td>0.537987</td>\n",
       "      <td>0.541429</td>\n",
       "      <td>0.549458</td>\n",
       "    </tr>\n",
       "  </tbody>\n",
       "</table>\n",
       "</div>"
      ],
      "text/plain": [
       "                                                 file  accuracy  f1_score  \\\n",
       "6   20_newsgroups_cohere_random_samples_cot_unstab...  0.574479  0.301975   \n",
       "0   20_newsgroups_gpt4omini_random_samples_cot_uns...  0.694792  0.647200   \n",
       "7   ag_news_cohere_random_samples_cot_unstable_tem...  0.856522  0.851268   \n",
       "4   ag_news_gpt4omini_random_samples_cot_unstable_...  0.872826  0.871912   \n",
       "10  go_emotions_cohere_random_samples_cot_unstable...  0.315414  0.175047   \n",
       "3   go_emotions_gpt4omini_random_samples_cot_unsta...  0.368969  0.362395   \n",
       "11  social_media_cohere_random_samples_cot_unstabl...  0.534447  0.483437   \n",
       "2   social_media_gpt4omini_random_samples_cot_unst...  0.495385  0.477075   \n",
       "8   sst5_cohere_random_samples_cot_unstable_temp0_...  0.547872  0.545863   \n",
       "1   sst5_gpt4omini_random_samples_cot_unstable_tem...  0.579787  0.580863   \n",
       "9   yahoo_cohere_random_samples_cot_unstable_temp0...  0.698936  0.417147   \n",
       "5   yahoo_gpt4omini_random_samples_cot_unstable_te...  0.704255  0.537987   \n",
       "\n",
       "      recall  precision  \n",
       "6   0.294654   0.367592  \n",
       "0   0.646862   0.685054  \n",
       "7   0.854301   0.867599  \n",
       "4   0.873735   0.878997  \n",
       "10  0.169591   0.234609  \n",
       "3   0.348432   0.430798  \n",
       "11  0.551402   0.501113  \n",
       "2   0.559598   0.537398  \n",
       "8   0.548759   0.556782  \n",
       "1   0.580789   0.595165  \n",
       "9   0.411248   0.435028  \n",
       "5   0.541429   0.549458  "
      ]
     },
     "execution_count": 51,
     "metadata": {},
     "output_type": "execute_result"
    }
   ],
   "source": [
    "df = evaluate_predictions_from_folders(folder_paths, True, 'original_label', 'output' )\n",
    "df.sort_values(by='file')"
   ]
  },
  {
   "cell_type": "code",
   "execution_count": 52,
   "metadata": {},
   "outputs": [],
   "source": [
    "# df.to_csv('acc_f1_precision_recall.csv', index=False)"
   ]
  },
  {
   "cell_type": "code",
   "execution_count": 53,
   "metadata": {},
   "outputs": [
    {
     "data": {
      "text/plain": [
       "array([3, 4, 5, 1, 2])"
      ]
     },
     "execution_count": 53,
     "metadata": {},
     "output_type": "execute_result"
    }
   ],
   "source": [
    "import pandas as pd\n",
    "\n",
    "dfff = pd.read_csv('results/random_samples_temp0/gpt4omini/sst5_gpt4omini_random_samples_cot_unstable_temp0_exp1.csv')\n",
    "dfff['original_label'].unique()"
   ]
  }
 ],
 "metadata": {
  "kernelspec": {
   "display_name": "anote",
   "language": "python",
   "name": "python3"
  },
  "language_info": {
   "codemirror_mode": {
    "name": "ipython",
    "version": 3
   },
   "file_extension": ".py",
   "mimetype": "text/x-python",
   "name": "python",
   "nbconvert_exporter": "python",
   "pygments_lexer": "ipython3",
   "version": "3.12.7"
  }
 },
 "nbformat": 4,
 "nbformat_minor": 2
}
