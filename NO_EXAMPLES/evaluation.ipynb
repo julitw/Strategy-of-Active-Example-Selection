{
 "cells": [
  {
   "cell_type": "code",
   "execution_count": 2,
   "metadata": {},
   "outputs": [],
   "source": [
    "import os \n",
    "import sys\n",
    "sys.path.append(os.path.abspath(os.path.join(os.getcwd(), '..')))\n",
    "import pandas as pd # type: ignore"
   ]
  },
  {
   "cell_type": "code",
   "execution_count": 3,
   "metadata": {},
   "outputs": [],
   "source": [
    "from utils import evaluate_predictions_from_folders, count_missing_in_column_from_folders"
   ]
  },
  {
   "cell_type": "code",
   "execution_count": 4,
   "metadata": {},
   "outputs": [],
   "source": [
    "path1 = 'results/no_samples_temp0/gpt4omini'\n",
    "path2 = 'results/no_samples_temp0/cohere'\n",
    "path3 = 'results/no_samples_temp0/llama3'\n",
    "\n",
    "\n",
    "paths = [path3]"
   ]
  },
  {
   "cell_type": "code",
   "execution_count": 5,
   "metadata": {},
   "outputs": [
    {
     "data": {
      "text/html": [
       "<div>\n",
       "<style scoped>\n",
       "    .dataframe tbody tr th:only-of-type {\n",
       "        vertical-align: middle;\n",
       "    }\n",
       "\n",
       "    .dataframe tbody tr th {\n",
       "        vertical-align: top;\n",
       "    }\n",
       "\n",
       "    .dataframe thead th {\n",
       "        text-align: right;\n",
       "    }\n",
       "</style>\n",
       "<table border=\"1\" class=\"dataframe\">\n",
       "  <thead>\n",
       "    <tr style=\"text-align: right;\">\n",
       "      <th></th>\n",
       "      <th>file</th>\n",
       "      <th>missing_count</th>\n",
       "    </tr>\n",
       "  </thead>\n",
       "  <tbody>\n",
       "    <tr>\n",
       "      <th>0</th>\n",
       "      <td>results/no_samples_temp0/llama3/yahoo_llama3_n...</td>\n",
       "      <td>0</td>\n",
       "    </tr>\n",
       "    <tr>\n",
       "      <th>1</th>\n",
       "      <td>results/no_samples_temp0/llama3/ag_news_llama3...</td>\n",
       "      <td>0</td>\n",
       "    </tr>\n",
       "    <tr>\n",
       "      <th>2</th>\n",
       "      <td>results/no_samples_temp0/llama3/20_newsgroups_...</td>\n",
       "      <td>0</td>\n",
       "    </tr>\n",
       "    <tr>\n",
       "      <th>3</th>\n",
       "      <td>results/no_samples_temp0/llama3/sst5_llama3_no...</td>\n",
       "      <td>0</td>\n",
       "    </tr>\n",
       "    <tr>\n",
       "      <th>4</th>\n",
       "      <td>results/no_samples_temp0/llama3/go_emotions_ll...</td>\n",
       "      <td>0</td>\n",
       "    </tr>\n",
       "    <tr>\n",
       "      <th>5</th>\n",
       "      <td>results/no_samples_temp0/llama3/social_media_l...</td>\n",
       "      <td>0</td>\n",
       "    </tr>\n",
       "  </tbody>\n",
       "</table>\n",
       "</div>"
      ],
      "text/plain": [
       "                                                file  missing_count\n",
       "0  results/no_samples_temp0/llama3/yahoo_llama3_n...              0\n",
       "1  results/no_samples_temp0/llama3/ag_news_llama3...              0\n",
       "2  results/no_samples_temp0/llama3/20_newsgroups_...              0\n",
       "3  results/no_samples_temp0/llama3/sst5_llama3_no...              0\n",
       "4  results/no_samples_temp0/llama3/go_emotions_ll...              0\n",
       "5  results/no_samples_temp0/llama3/social_media_l...              0"
      ]
     },
     "execution_count": 5,
     "metadata": {},
     "output_type": "execute_result"
    }
   ],
   "source": [
    "counts = count_missing_in_column_from_folders(paths)\n",
    "counts"
   ]
  },
  {
   "cell_type": "code",
   "execution_count": 6,
   "metadata": {},
   "outputs": [
    {
     "name": "stderr",
     "output_type": "stream",
     "text": [
      "/home/julita/anaconda3/envs/anote/lib/python3.12/site-packages/sklearn/metrics/_classification.py:1531: UndefinedMetricWarning: Recall is ill-defined and being set to 0.0 in labels with no true samples. Use `zero_division` parameter to control this behavior.\n",
      "  _warn_prf(average, modifier, f\"{metric.capitalize()} is\", len(result))\n",
      "/home/julita/anaconda3/envs/anote/lib/python3.12/site-packages/sklearn/metrics/_classification.py:1531: UndefinedMetricWarning: Recall is ill-defined and being set to 0.0 in labels with no true samples. Use `zero_division` parameter to control this behavior.\n",
      "  _warn_prf(average, modifier, f\"{metric.capitalize()} is\", len(result))\n",
      "/home/julita/anaconda3/envs/anote/lib/python3.12/site-packages/sklearn/metrics/_classification.py:1531: UndefinedMetricWarning: Recall is ill-defined and being set to 0.0 in labels with no true samples. Use `zero_division` parameter to control this behavior.\n",
      "  _warn_prf(average, modifier, f\"{metric.capitalize()} is\", len(result))\n",
      "/home/julita/anaconda3/envs/anote/lib/python3.12/site-packages/sklearn/metrics/_classification.py:1531: UndefinedMetricWarning: Recall is ill-defined and being set to 0.0 in labels with no true samples. Use `zero_division` parameter to control this behavior.\n",
      "  _warn_prf(average, modifier, f\"{metric.capitalize()} is\", len(result))\n",
      "/home/julita/anaconda3/envs/anote/lib/python3.12/site-packages/sklearn/metrics/_classification.py:1531: UndefinedMetricWarning: Recall is ill-defined and being set to 0.0 in labels with no true samples. Use `zero_division` parameter to control this behavior.\n",
      "  _warn_prf(average, modifier, f\"{metric.capitalize()} is\", len(result))\n"
     ]
    },
    {
     "data": {
      "text/html": [
       "<div>\n",
       "<style scoped>\n",
       "    .dataframe tbody tr th:only-of-type {\n",
       "        vertical-align: middle;\n",
       "    }\n",
       "\n",
       "    .dataframe tbody tr th {\n",
       "        vertical-align: top;\n",
       "    }\n",
       "\n",
       "    .dataframe thead th {\n",
       "        text-align: right;\n",
       "    }\n",
       "</style>\n",
       "<table border=\"1\" class=\"dataframe\">\n",
       "  <thead>\n",
       "    <tr style=\"text-align: right;\">\n",
       "      <th></th>\n",
       "      <th>file</th>\n",
       "      <th>accuracy</th>\n",
       "      <th>f1_score</th>\n",
       "      <th>recall</th>\n",
       "      <th>precision</th>\n",
       "    </tr>\n",
       "  </thead>\n",
       "  <tbody>\n",
       "    <tr>\n",
       "      <th>2</th>\n",
       "      <td>20_newsgroups_llama3_no_samples_temp0_exp1.csv</td>\n",
       "      <td>0.679000</td>\n",
       "      <td>0.357137</td>\n",
       "      <td>0.348205</td>\n",
       "      <td>0.390903</td>\n",
       "    </tr>\n",
       "    <tr>\n",
       "      <th>1</th>\n",
       "      <td>ag_news_llama3_no_samples_temp0_exp1.csv</td>\n",
       "      <td>0.873000</td>\n",
       "      <td>0.581568</td>\n",
       "      <td>0.582000</td>\n",
       "      <td>0.586910</td>\n",
       "    </tr>\n",
       "    <tr>\n",
       "      <th>4</th>\n",
       "      <td>go_emotions_llama3_no_samples_temp0_exp1.csv</td>\n",
       "      <td>0.305208</td>\n",
       "      <td>0.083565</td>\n",
       "      <td>0.078763</td>\n",
       "      <td>0.118771</td>\n",
       "    </tr>\n",
       "    <tr>\n",
       "      <th>5</th>\n",
       "      <td>social_media_llama3_no_samples_temp0_exp1.csv</td>\n",
       "      <td>0.296157</td>\n",
       "      <td>0.256966</td>\n",
       "      <td>0.366108</td>\n",
       "      <td>0.369410</td>\n",
       "    </tr>\n",
       "    <tr>\n",
       "      <th>3</th>\n",
       "      <td>sst5_llama3_no_samples_temp0_exp1.csv</td>\n",
       "      <td>0.569000</td>\n",
       "      <td>0.553493</td>\n",
       "      <td>0.569000</td>\n",
       "      <td>0.566818</td>\n",
       "    </tr>\n",
       "    <tr>\n",
       "      <th>0</th>\n",
       "      <td>yahoo_llama3_no_samples_temp0_exp1.csv</td>\n",
       "      <td>0.721000</td>\n",
       "      <td>0.448983</td>\n",
       "      <td>0.450625</td>\n",
       "      <td>0.460048</td>\n",
       "    </tr>\n",
       "  </tbody>\n",
       "</table>\n",
       "</div>"
      ],
      "text/plain": [
       "                                             file  accuracy  f1_score  \\\n",
       "2  20_newsgroups_llama3_no_samples_temp0_exp1.csv  0.679000  0.357137   \n",
       "1        ag_news_llama3_no_samples_temp0_exp1.csv  0.873000  0.581568   \n",
       "4    go_emotions_llama3_no_samples_temp0_exp1.csv  0.305208  0.083565   \n",
       "5   social_media_llama3_no_samples_temp0_exp1.csv  0.296157  0.256966   \n",
       "3           sst5_llama3_no_samples_temp0_exp1.csv  0.569000  0.553493   \n",
       "0          yahoo_llama3_no_samples_temp0_exp1.csv  0.721000  0.448983   \n",
       "\n",
       "     recall  precision  \n",
       "2  0.348205   0.390903  \n",
       "1  0.582000   0.586910  \n",
       "4  0.078763   0.118771  \n",
       "5  0.366108   0.369410  \n",
       "3  0.569000   0.566818  \n",
       "0  0.450625   0.460048  "
      ]
     },
     "execution_count": 6,
     "metadata": {},
     "output_type": "execute_result"
    }
   ],
   "source": [
    "results = evaluate_predictions_from_folders(paths, False, 'original_label', 'output')\n",
    "results.sort_values(by='file')"
   ]
  }
 ],
 "metadata": {
  "kernelspec": {
   "display_name": "anote",
   "language": "python",
   "name": "python3"
  },
  "language_info": {
   "codemirror_mode": {
    "name": "ipython",
    "version": 3
   },
   "file_extension": ".py",
   "mimetype": "text/x-python",
   "name": "python",
   "nbconvert_exporter": "python",
   "pygments_lexer": "ipython3",
   "version": "3.12.7"
  }
 },
 "nbformat": 4,
 "nbformat_minor": 2
}
