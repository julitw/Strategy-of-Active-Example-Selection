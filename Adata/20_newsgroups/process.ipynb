{
 "cells": [
  {
   "cell_type": "code",
   "execution_count": 2,
   "metadata": {},
   "outputs": [
    {
     "name": "stderr",
     "output_type": "stream",
     "text": [
      "/home/julita/anaconda3/envs/anote/lib/python3.12/site-packages/tqdm/auto.py:21: TqdmWarning: IProgress not found. Please update jupyter and ipywidgets. See https://ipywidgets.readthedocs.io/en/stable/user_install.html\n",
      "  from .autonotebook import tqdm as notebook_tqdm\n"
     ]
    }
   ],
   "source": [
    "import pandas as pd\n",
    "import kagglehub\n"
   ]
  },
  {
   "cell_type": "code",
   "execution_count": 3,
   "metadata": {},
   "outputs": [
    {
     "name": "stdout",
     "output_type": "stream",
     "text": [
      "Path to dataset files: /home/julita/.cache/kagglehub/datasets/filipefilardi/20-newsgroup-preprocessed/versions/2\n"
     ]
    }
   ],
   "source": [
    "path = kagglehub.dataset_download(\"filipefilardi/20-newsgroup-preprocessed\")\n",
    "\n",
    "print(\"Path to dataset files:\", path)"
   ]
  },
  {
   "cell_type": "code",
   "execution_count": 4,
   "metadata": {},
   "outputs": [
    {
     "data": {
      "text/html": [
       "<div>\n",
       "<style scoped>\n",
       "    .dataframe tbody tr th:only-of-type {\n",
       "        vertical-align: middle;\n",
       "    }\n",
       "\n",
       "    .dataframe tbody tr th {\n",
       "        vertical-align: top;\n",
       "    }\n",
       "\n",
       "    .dataframe thead th {\n",
       "        text-align: right;\n",
       "    }\n",
       "</style>\n",
       "<table border=\"1\" class=\"dataframe\">\n",
       "  <thead>\n",
       "    <tr style=\"text-align: right;\">\n",
       "      <th></th>\n",
       "      <th>target</th>\n",
       "      <th>text</th>\n",
       "      <th>text_cleaned</th>\n",
       "    </tr>\n",
       "  </thead>\n",
       "  <tbody>\n",
       "    <tr>\n",
       "      <th>0</th>\n",
       "      <td>alt.atheism</td>\n",
       "      <td>From: mathew &lt;mathew@mantis.co.uk&gt;\\nSubject: A...</td>\n",
       "      <td>atheist resources addresses atheist organizati...</td>\n",
       "    </tr>\n",
       "    <tr>\n",
       "      <th>1</th>\n",
       "      <td>alt.atheism</td>\n",
       "      <td>From: mathew &lt;mathew@mantis.co.uk&gt;\\nSubject: A...</td>\n",
       "      <td>begin pgp signed message introduction atheism ...</td>\n",
       "    </tr>\n",
       "    <tr>\n",
       "      <th>2</th>\n",
       "      <td>alt.atheism</td>\n",
       "      <td>From: I3150101@dbstu1.rz.tu-bs.de (Benedikt Ro...</td>\n",
       "      <td>article charley wingate writes well john quite...</td>\n",
       "    </tr>\n",
       "    <tr>\n",
       "      <th>3</th>\n",
       "      <td>alt.atheism</td>\n",
       "      <td>From: mathew &lt;mathew@mantis.co.uk&gt;\\nSubject: R...</td>\n",
       "      <td>kings become philosophers philosophers become ...</td>\n",
       "    </tr>\n",
       "    <tr>\n",
       "      <th>4</th>\n",
       "      <td>alt.atheism</td>\n",
       "      <td>From: strom@Watson.Ibm.Com (Rob Strom)\\nSubjec...</td>\n",
       "      <td>article bob mcgwier writes however hate econom...</td>\n",
       "    </tr>\n",
       "    <tr>\n",
       "      <th>...</th>\n",
       "      <td>...</td>\n",
       "      <td>...</td>\n",
       "      <td>...</td>\n",
       "    </tr>\n",
       "    <tr>\n",
       "      <th>18823</th>\n",
       "      <td>talk.religion.misc</td>\n",
       "      <td>From: sbuckley@fraser.sfu.ca (Stephen Buckley)...</td>\n",
       "      <td>paul boxrud writes wasnt sure right newsgroup ...</td>\n",
       "    </tr>\n",
       "    <tr>\n",
       "      <th>18824</th>\n",
       "      <td>talk.religion.misc</td>\n",
       "      <td>From: bakerj@gtephx.UUCP (Jon Baker)\\nSubject:...</td>\n",
       "      <td>article joakim ruud writes article mark wilson...</td>\n",
       "    </tr>\n",
       "    <tr>\n",
       "      <th>18825</th>\n",
       "      <td>talk.religion.misc</td>\n",
       "      <td>From: pharvey@quack.kfu.com (Paul Harvey)\\nSub...</td>\n",
       "      <td>article bill jefferys writes would like unders...</td>\n",
       "    </tr>\n",
       "    <tr>\n",
       "      <th>18826</th>\n",
       "      <td>talk.religion.misc</td>\n",
       "      <td>From: &lt;KEVXU@CUNYVM.BITNET&gt;\\nSubject: Re: Info...</td>\n",
       "      <td>article gerry palo danger anticult groups expo...</td>\n",
       "    </tr>\n",
       "    <tr>\n",
       "      <th>18827</th>\n",
       "      <td>talk.religion.misc</td>\n",
       "      <td>From: pharvey@quack.kfu.com (Paul Harvey)\\nSub...</td>\n",
       "      <td>article bill conner writes keith ryan wrote ma...</td>\n",
       "    </tr>\n",
       "  </tbody>\n",
       "</table>\n",
       "<p>18828 rows × 3 columns</p>\n",
       "</div>"
      ],
      "text/plain": [
       "                   target                                               text  \\\n",
       "0             alt.atheism  From: mathew <mathew@mantis.co.uk>\\nSubject: A...   \n",
       "1             alt.atheism  From: mathew <mathew@mantis.co.uk>\\nSubject: A...   \n",
       "2             alt.atheism  From: I3150101@dbstu1.rz.tu-bs.de (Benedikt Ro...   \n",
       "3             alt.atheism  From: mathew <mathew@mantis.co.uk>\\nSubject: R...   \n",
       "4             alt.atheism  From: strom@Watson.Ibm.Com (Rob Strom)\\nSubjec...   \n",
       "...                   ...                                                ...   \n",
       "18823  talk.religion.misc  From: sbuckley@fraser.sfu.ca (Stephen Buckley)...   \n",
       "18824  talk.religion.misc  From: bakerj@gtephx.UUCP (Jon Baker)\\nSubject:...   \n",
       "18825  talk.religion.misc  From: pharvey@quack.kfu.com (Paul Harvey)\\nSub...   \n",
       "18826  talk.religion.misc  From: <KEVXU@CUNYVM.BITNET>\\nSubject: Re: Info...   \n",
       "18827  talk.religion.misc  From: pharvey@quack.kfu.com (Paul Harvey)\\nSub...   \n",
       "\n",
       "                                            text_cleaned  \n",
       "0      atheist resources addresses atheist organizati...  \n",
       "1      begin pgp signed message introduction atheism ...  \n",
       "2      article charley wingate writes well john quite...  \n",
       "3      kings become philosophers philosophers become ...  \n",
       "4      article bob mcgwier writes however hate econom...  \n",
       "...                                                  ...  \n",
       "18823  paul boxrud writes wasnt sure right newsgroup ...  \n",
       "18824  article joakim ruud writes article mark wilson...  \n",
       "18825  article bill jefferys writes would like unders...  \n",
       "18826  article gerry palo danger anticult groups expo...  \n",
       "18827  article bill conner writes keith ryan wrote ma...  \n",
       "\n",
       "[18828 rows x 3 columns]"
      ]
     },
     "execution_count": 4,
     "metadata": {},
     "output_type": "execute_result"
    }
   ],
   "source": [
    "df = pd.read_csv('20newsgroup_preprocessed.csv', sep=';')\n",
    "df"
   ]
  },
  {
   "cell_type": "code",
   "execution_count": 5,
   "metadata": {},
   "outputs": [
    {
     "data": {
      "text/plain": [
       "target\n",
       "rec.sport.hockey            999\n",
       "soc.religion.christian      997\n",
       "rec.sport.baseball          994\n",
       "rec.motorcycles             994\n",
       "sci.crypt                   991\n",
       "rec.autos                   990\n",
       "sci.med                     990\n",
       "sci.space                   987\n",
       "comp.os.ms-windows.misc     985\n",
       "comp.sys.ibm.pc.hardware    982\n",
       "sci.electronics             981\n",
       "comp.windows.x              980\n",
       "comp.graphics               973\n",
       "misc.forsale                972\n",
       "comp.sys.mac.hardware       961\n",
       "talk.politics.mideast       940\n",
       "talk.politics.guns          910\n",
       "alt.atheism                 799\n",
       "talk.politics.misc          775\n",
       "talk.religion.misc          628\n",
       "Name: count, dtype: int64"
      ]
     },
     "execution_count": 5,
     "metadata": {},
     "output_type": "execute_result"
    }
   ],
   "source": [
    "df['target'].value_counts()"
   ]
  },
  {
   "cell_type": "code",
   "execution_count": 6,
   "metadata": {},
   "outputs": [],
   "source": [
    "df_sampled = df.groupby('target').sample(n=100, random_state=42)\n"
   ]
  },
  {
   "cell_type": "code",
   "execution_count": 7,
   "metadata": {},
   "outputs": [
    {
     "data": {
      "text/html": [
       "<div>\n",
       "<style scoped>\n",
       "    .dataframe tbody tr th:only-of-type {\n",
       "        vertical-align: middle;\n",
       "    }\n",
       "\n",
       "    .dataframe tbody tr th {\n",
       "        vertical-align: top;\n",
       "    }\n",
       "\n",
       "    .dataframe thead th {\n",
       "        text-align: right;\n",
       "    }\n",
       "</style>\n",
       "<table border=\"1\" class=\"dataframe\">\n",
       "  <thead>\n",
       "    <tr style=\"text-align: right;\">\n",
       "      <th></th>\n",
       "      <th>target</th>\n",
       "      <th>text</th>\n",
       "      <th>text_cleaned</th>\n",
       "    </tr>\n",
       "  </thead>\n",
       "  <tbody>\n",
       "    <tr>\n",
       "      <th>0</th>\n",
       "      <td>talk.politics.misc</td>\n",
       "      <td>From: demon@desire.wright.edu (Not a Boomer)\\n...</td>\n",
       "      <td>article ashish arora writes excerpts netnewssc...</td>\n",
       "    </tr>\n",
       "    <tr>\n",
       "      <th>1</th>\n",
       "      <td>comp.sys.ibm.pc.hardware</td>\n",
       "      <td>From: dhartung@chinet.chi.il.us (Dan Hartung)\\...</td>\n",
       "      <td>gateway telepath modem month actually one woul...</td>\n",
       "    </tr>\n",
       "    <tr>\n",
       "      <th>2</th>\n",
       "      <td>sci.med</td>\n",
       "      <td>From: ohandley@betsy.gsfc.nasa.gov\\nSubject: S...</td>\n",
       "      <td>anybody provide advice concerning following tw...</td>\n",
       "    </tr>\n",
       "    <tr>\n",
       "      <th>3</th>\n",
       "      <td>rec.sport.baseball</td>\n",
       "      <td>From: bobn@hawkwind.central.Sun.COM (Bob Nethe...</td>\n",
       "      <td>article mike silverman writes anybody know goi...</td>\n",
       "    </tr>\n",
       "    <tr>\n",
       "      <th>4</th>\n",
       "      <td>sci.electronics</td>\n",
       "      <td>From: sgberg@charon.bloomington.in.us (Stefan ...</td>\n",
       "      <td>article stich christian e writes installed mot...</td>\n",
       "    </tr>\n",
       "    <tr>\n",
       "      <th>...</th>\n",
       "      <td>...</td>\n",
       "      <td>...</td>\n",
       "      <td>...</td>\n",
       "    </tr>\n",
       "    <tr>\n",
       "      <th>1995</th>\n",
       "      <td>sci.crypt</td>\n",
       "      <td>Subject: Re: Once tapped, your code is no good...</td>\n",
       "      <td>david sternlight writes article karl barrus wr...</td>\n",
       "    </tr>\n",
       "    <tr>\n",
       "      <th>1996</th>\n",
       "      <td>sci.electronics</td>\n",
       "      <td>From: theo@walt.caps.maine.edu (Theo M. Alpert...</td>\n",
       "      <td>hello im looking information alphanumeric page...</td>\n",
       "    </tr>\n",
       "    <tr>\n",
       "      <th>1997</th>\n",
       "      <td>rec.motorcycles</td>\n",
       "      <td>From: csundh30@ursa.calvin.edu (Charles Sundhe...</td>\n",
       "      <td>john r daker writes would like offocially nomi...</td>\n",
       "    </tr>\n",
       "    <tr>\n",
       "      <th>1998</th>\n",
       "      <td>sci.space</td>\n",
       "      <td>From: ajjb@adam4.bnsc.rl.ac.uk (Andrew Broderi...</td>\n",
       "      <td>article writes looking information concerning ...</td>\n",
       "    </tr>\n",
       "    <tr>\n",
       "      <th>1999</th>\n",
       "      <td>sci.crypt</td>\n",
       "      <td>From: metatron!joe@dogface.austin.tx.us (Joe Z...</td>\n",
       "      <td>steve brinich writes flaming libertarian paran...</td>\n",
       "    </tr>\n",
       "  </tbody>\n",
       "</table>\n",
       "<p>2000 rows × 3 columns</p>\n",
       "</div>"
      ],
      "text/plain": [
       "                        target  \\\n",
       "0           talk.politics.misc   \n",
       "1     comp.sys.ibm.pc.hardware   \n",
       "2                      sci.med   \n",
       "3           rec.sport.baseball   \n",
       "4              sci.electronics   \n",
       "...                        ...   \n",
       "1995                 sci.crypt   \n",
       "1996           sci.electronics   \n",
       "1997           rec.motorcycles   \n",
       "1998                 sci.space   \n",
       "1999                 sci.crypt   \n",
       "\n",
       "                                                   text  \\\n",
       "0     From: demon@desire.wright.edu (Not a Boomer)\\n...   \n",
       "1     From: dhartung@chinet.chi.il.us (Dan Hartung)\\...   \n",
       "2     From: ohandley@betsy.gsfc.nasa.gov\\nSubject: S...   \n",
       "3     From: bobn@hawkwind.central.Sun.COM (Bob Nethe...   \n",
       "4     From: sgberg@charon.bloomington.in.us (Stefan ...   \n",
       "...                                                 ...   \n",
       "1995  Subject: Re: Once tapped, your code is no good...   \n",
       "1996  From: theo@walt.caps.maine.edu (Theo M. Alpert...   \n",
       "1997  From: csundh30@ursa.calvin.edu (Charles Sundhe...   \n",
       "1998  From: ajjb@adam4.bnsc.rl.ac.uk (Andrew Broderi...   \n",
       "1999  From: metatron!joe@dogface.austin.tx.us (Joe Z...   \n",
       "\n",
       "                                           text_cleaned  \n",
       "0     article ashish arora writes excerpts netnewssc...  \n",
       "1     gateway telepath modem month actually one woul...  \n",
       "2     anybody provide advice concerning following tw...  \n",
       "3     article mike silverman writes anybody know goi...  \n",
       "4     article stich christian e writes installed mot...  \n",
       "...                                                 ...  \n",
       "1995  david sternlight writes article karl barrus wr...  \n",
       "1996  hello im looking information alphanumeric page...  \n",
       "1997  john r daker writes would like offocially nomi...  \n",
       "1998  article writes looking information concerning ...  \n",
       "1999  steve brinich writes flaming libertarian paran...  \n",
       "\n",
       "[2000 rows x 3 columns]"
      ]
     },
     "execution_count": 7,
     "metadata": {},
     "output_type": "execute_result"
    }
   ],
   "source": [
    "df_sampled = df_sampled.sample(frac=1, random_state=42).reset_index(drop=True)\n",
    "df_sampled"
   ]
  },
  {
   "cell_type": "code",
   "execution_count": 8,
   "metadata": {},
   "outputs": [
    {
     "data": {
      "text/plain": [
       "Index(['target', 'text', 'text_cleaned'], dtype='object')"
      ]
     },
     "execution_count": 8,
     "metadata": {},
     "output_type": "execute_result"
    }
   ],
   "source": [
    "df_sampled.columns"
   ]
  },
  {
   "cell_type": "code",
   "execution_count": 9,
   "metadata": {},
   "outputs": [],
   "source": [
    "df_sampled.drop('text', axis=1, inplace=True)\n",
    "df_sampled = df_sampled.rename(columns={'target': 'label', 'text_cleaned': 'text'})"
   ]
  },
  {
   "cell_type": "code",
   "execution_count": 10,
   "metadata": {},
   "outputs": [
    {
     "data": {
      "text/html": [
       "<div>\n",
       "<style scoped>\n",
       "    .dataframe tbody tr th:only-of-type {\n",
       "        vertical-align: middle;\n",
       "    }\n",
       "\n",
       "    .dataframe tbody tr th {\n",
       "        vertical-align: top;\n",
       "    }\n",
       "\n",
       "    .dataframe thead th {\n",
       "        text-align: right;\n",
       "    }\n",
       "</style>\n",
       "<table border=\"1\" class=\"dataframe\">\n",
       "  <thead>\n",
       "    <tr style=\"text-align: right;\">\n",
       "      <th></th>\n",
       "      <th>label</th>\n",
       "      <th>text</th>\n",
       "    </tr>\n",
       "  </thead>\n",
       "  <tbody>\n",
       "    <tr>\n",
       "      <th>0</th>\n",
       "      <td>talk.politics.misc</td>\n",
       "      <td>article ashish arora writes excerpts netnewssc...</td>\n",
       "    </tr>\n",
       "    <tr>\n",
       "      <th>1</th>\n",
       "      <td>comp.sys.ibm.pc.hardware</td>\n",
       "      <td>gateway telepath modem month actually one woul...</td>\n",
       "    </tr>\n",
       "    <tr>\n",
       "      <th>2</th>\n",
       "      <td>sci.med</td>\n",
       "      <td>anybody provide advice concerning following tw...</td>\n",
       "    </tr>\n",
       "    <tr>\n",
       "      <th>3</th>\n",
       "      <td>rec.sport.baseball</td>\n",
       "      <td>article mike silverman writes anybody know goi...</td>\n",
       "    </tr>\n",
       "    <tr>\n",
       "      <th>4</th>\n",
       "      <td>sci.electronics</td>\n",
       "      <td>article stich christian e writes installed mot...</td>\n",
       "    </tr>\n",
       "    <tr>\n",
       "      <th>...</th>\n",
       "      <td>...</td>\n",
       "      <td>...</td>\n",
       "    </tr>\n",
       "    <tr>\n",
       "      <th>1995</th>\n",
       "      <td>sci.crypt</td>\n",
       "      <td>david sternlight writes article karl barrus wr...</td>\n",
       "    </tr>\n",
       "    <tr>\n",
       "      <th>1996</th>\n",
       "      <td>sci.electronics</td>\n",
       "      <td>hello im looking information alphanumeric page...</td>\n",
       "    </tr>\n",
       "    <tr>\n",
       "      <th>1997</th>\n",
       "      <td>rec.motorcycles</td>\n",
       "      <td>john r daker writes would like offocially nomi...</td>\n",
       "    </tr>\n",
       "    <tr>\n",
       "      <th>1998</th>\n",
       "      <td>sci.space</td>\n",
       "      <td>article writes looking information concerning ...</td>\n",
       "    </tr>\n",
       "    <tr>\n",
       "      <th>1999</th>\n",
       "      <td>sci.crypt</td>\n",
       "      <td>steve brinich writes flaming libertarian paran...</td>\n",
       "    </tr>\n",
       "  </tbody>\n",
       "</table>\n",
       "<p>2000 rows × 2 columns</p>\n",
       "</div>"
      ],
      "text/plain": [
       "                         label  \\\n",
       "0           talk.politics.misc   \n",
       "1     comp.sys.ibm.pc.hardware   \n",
       "2                      sci.med   \n",
       "3           rec.sport.baseball   \n",
       "4              sci.electronics   \n",
       "...                        ...   \n",
       "1995                 sci.crypt   \n",
       "1996           sci.electronics   \n",
       "1997           rec.motorcycles   \n",
       "1998                 sci.space   \n",
       "1999                 sci.crypt   \n",
       "\n",
       "                                                   text  \n",
       "0     article ashish arora writes excerpts netnewssc...  \n",
       "1     gateway telepath modem month actually one woul...  \n",
       "2     anybody provide advice concerning following tw...  \n",
       "3     article mike silverman writes anybody know goi...  \n",
       "4     article stich christian e writes installed mot...  \n",
       "...                                                 ...  \n",
       "1995  david sternlight writes article karl barrus wr...  \n",
       "1996  hello im looking information alphanumeric page...  \n",
       "1997  john r daker writes would like offocially nomi...  \n",
       "1998  article writes looking information concerning ...  \n",
       "1999  steve brinich writes flaming libertarian paran...  \n",
       "\n",
       "[2000 rows x 2 columns]"
      ]
     },
     "execution_count": 10,
     "metadata": {},
     "output_type": "execute_result"
    }
   ],
   "source": [
    "df_sampled"
   ]
  },
  {
   "cell_type": "code",
   "execution_count": 11,
   "metadata": {},
   "outputs": [
    {
     "name": "stdout",
     "output_type": "stream",
     "text": [
      "Liczba pustych lub brakujących wartości: 6\n"
     ]
    }
   ],
   "source": [
    "empty_or_nan_count = df_sampled['text'].isna().sum() + (df_sampled['text'] == '').sum()\n",
    "\n",
    "print(\"Liczba pustych lub brakujących wartości:\", empty_or_nan_count)"
   ]
  },
  {
   "cell_type": "code",
   "execution_count": 12,
   "metadata": {},
   "outputs": [
    {
     "name": "stderr",
     "output_type": "stream",
     "text": [
      "/tmp/ipykernel_133220/1109075514.py:1: UserWarning: Boolean Series key will be reindexed to match DataFrame index.\n",
      "  df_sampled =  df_sampled[~(df['text'].isna() | ( df_sampled['text'] == ''))]\n"
     ]
    }
   ],
   "source": [
    "df_sampled =  df_sampled[~(df['text'].isna() | ( df_sampled['text'] == ''))]\n"
   ]
  },
  {
   "cell_type": "code",
   "execution_count": 13,
   "metadata": {},
   "outputs": [],
   "source": [
    "df_sampled.to_csv('train_subset.csv', index=False)"
   ]
  }
 ],
 "metadata": {
  "kernelspec": {
   "display_name": "anote",
   "language": "python",
   "name": "python3"
  },
  "language_info": {
   "codemirror_mode": {
    "name": "ipython",
    "version": 3
   },
   "file_extension": ".py",
   "mimetype": "text/x-python",
   "name": "python",
   "nbconvert_exporter": "python",
   "pygments_lexer": "ipython3",
   "version": "3.12.7"
  }
 },
 "nbformat": 4,
 "nbformat_minor": 2
}
