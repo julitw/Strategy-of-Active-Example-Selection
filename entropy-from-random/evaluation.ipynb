{
 "cells": [
  {
   "cell_type": "code",
   "execution_count": 1,
   "metadata": {},
   "outputs": [],
   "source": [
    "import sys\n",
    "import os\n",
    "sys.path.append(os.path.abspath(os.path.join(os.getcwd(), '..')))\n",
    "from utils import evaluate_predictions_from_folders"
   ]
  },
  {
   "cell_type": "code",
   "execution_count": 2,
   "metadata": {},
   "outputs": [],
   "source": [
    "\n",
    "# folder_paths = [f'results/entropy_temp0/cohere', f'results/entropy_temp0/llama3', f'results/entropy_temp0/gpt4omini']\n",
    "\n",
    "folder_paths = [f'results/entropy_temp0/cohere']"
   ]
  },
  {
   "cell_type": "code",
   "execution_count": 3,
   "metadata": {},
   "outputs": [
    {
     "name": "stderr",
     "output_type": "stream",
     "text": [
      "/home/julita/anaconda3/envs/anote/lib/python3.12/site-packages/sklearn/metrics/_classification.py:1531: UndefinedMetricWarning: Recall is ill-defined and being set to 0.0 in labels with no true samples. Use `zero_division` parameter to control this behavior.\n",
      "  _warn_prf(average, modifier, f\"{metric.capitalize()} is\", len(result))\n",
      "/home/julita/anaconda3/envs/anote/lib/python3.12/site-packages/sklearn/metrics/_classification.py:1531: UndefinedMetricWarning: Recall is ill-defined and being set to 0.0 in labels with no true samples. Use `zero_division` parameter to control this behavior.\n",
      "  _warn_prf(average, modifier, f\"{metric.capitalize()} is\", len(result))\n",
      "/home/julita/anaconda3/envs/anote/lib/python3.12/site-packages/sklearn/metrics/_classification.py:1531: UndefinedMetricWarning: Recall is ill-defined and being set to 0.0 in labels with no true samples. Use `zero_division` parameter to control this behavior.\n",
      "  _warn_prf(average, modifier, f\"{metric.capitalize()} is\", len(result))\n",
      "/home/julita/anaconda3/envs/anote/lib/python3.12/site-packages/sklearn/metrics/_classification.py:1531: UndefinedMetricWarning: Recall is ill-defined and being set to 0.0 in labels with no true samples. Use `zero_division` parameter to control this behavior.\n",
      "  _warn_prf(average, modifier, f\"{metric.capitalize()} is\", len(result))\n",
      "/home/julita/anaconda3/envs/anote/lib/python3.12/site-packages/sklearn/metrics/_classification.py:1531: UndefinedMetricWarning: Recall is ill-defined and being set to 0.0 in labels with no true samples. Use `zero_division` parameter to control this behavior.\n",
      "  _warn_prf(average, modifier, f\"{metric.capitalize()} is\", len(result))\n"
     ]
    },
    {
     "name": "stdout",
     "output_type": "stream",
     "text": [
      "                                                 file  accuracy  f1_score  \\\n",
      "0   20_newsgroups_cohere_entropy_cohere_entropy_fr...  0.603646  0.408397   \n",
      "11  20_newsgroups_cohere_entropy_cohere_entropy_fr...  0.615104  0.401995   \n",
      "8   ag_news_cohere_entropy_cohere_entropy_from_ran...  0.869565  0.859212   \n",
      "10  ag_news_cohere_entropy_cohere_entropy_from_ran...  0.876087  0.866116   \n",
      "3   go_emotions_cohere_entropy_cohere_entropy_from...  0.327303  0.167907   \n",
      "7   go_emotions_cohere_entropy_cohere_entropy_from...  0.322917  0.151558   \n",
      "9   social_media_cohere_entropy_cohere_entropy_fro...  0.570430  0.517499   \n",
      "6   social_media_cohere_entropy_cohere_entropy_fro...  0.572139  0.481225   \n",
      "4   sst5_cohere_entropy_cohere_entropy_from_random...  0.431915  0.402929   \n",
      "2   sst5_cohere_entropy_cohere_entropy_from_random...  0.341489  0.323792   \n",
      "5   yahoo_cohere_entropy_cohere_entropy_from_rando...  0.734043  0.462529   \n",
      "1   yahoo_cohere_entropy_cohere_entropy_from_rando...  0.729787  0.460508   \n",
      "\n",
      "      recall  precision  \n",
      "0   0.404017   0.508824  \n",
      "11  0.399374   0.492512  \n",
      "8   0.856827   0.879362  \n",
      "10  0.864346   0.884961  \n",
      "3   0.159989   0.227159  \n",
      "7   0.143054   0.208029  \n",
      "9   0.583089   0.537410  \n",
      "6   0.517717   0.499861  \n",
      "4   0.442296   0.562476  \n",
      "2   0.359544   0.521374  \n",
      "5   0.457870   0.476648  \n",
      "1   0.455702   0.471057  \n"
     ]
    },
    {
     "name": "stderr",
     "output_type": "stream",
     "text": [
      "/home/julita/anaconda3/envs/anote/lib/python3.12/site-packages/sklearn/metrics/_classification.py:1531: UndefinedMetricWarning: Recall is ill-defined and being set to 0.0 in labels with no true samples. Use `zero_division` parameter to control this behavior.\n",
      "  _warn_prf(average, modifier, f\"{metric.capitalize()} is\", len(result))\n"
     ]
    }
   ],
   "source": [
    "df = evaluate_predictions_from_folders(folder_paths, True, 'original_label', 'output' )\n",
    "print(df.sort_values(by='file'))"
   ]
  },
  {
   "cell_type": "code",
   "execution_count": 4,
   "metadata": {},
   "outputs": [],
   "source": [
    "df.sort_values(by='file').to_csv('acc_f1_precision_recall.csv', index=False)"
   ]
  },
  {
   "cell_type": "code",
   "execution_count": 5,
   "metadata": {},
   "outputs": [
    {
     "data": {
      "text/html": [
       "<div>\n",
       "<style scoped>\n",
       "    .dataframe tbody tr th:only-of-type {\n",
       "        vertical-align: middle;\n",
       "    }\n",
       "\n",
       "    .dataframe tbody tr th {\n",
       "        vertical-align: top;\n",
       "    }\n",
       "\n",
       "    .dataframe thead th {\n",
       "        text-align: right;\n",
       "    }\n",
       "</style>\n",
       "<table border=\"1\" class=\"dataframe\">\n",
       "  <thead>\n",
       "    <tr style=\"text-align: right;\">\n",
       "      <th></th>\n",
       "      <th>dataset</th>\n",
       "      <th>accuracy_mean</th>\n",
       "      <th>accuracy_std</th>\n",
       "      <th>f1_score_mean</th>\n",
       "      <th>f1_score_std</th>\n",
       "      <th>recall_mean</th>\n",
       "      <th>recall_std</th>\n",
       "      <th>precision_mean</th>\n",
       "      <th>precision_std</th>\n",
       "    </tr>\n",
       "  </thead>\n",
       "  <tbody>\n",
       "    <tr>\n",
       "      <th>0</th>\n",
       "      <td>20_newsgroups</td>\n",
       "      <td>60.9</td>\n",
       "      <td>0.8</td>\n",
       "      <td>40.5</td>\n",
       "      <td>0.5</td>\n",
       "      <td>40.2</td>\n",
       "      <td>0.3</td>\n",
       "      <td>50.1</td>\n",
       "      <td>1.2</td>\n",
       "    </tr>\n",
       "    <tr>\n",
       "      <th>1</th>\n",
       "      <td>ag_news</td>\n",
       "      <td>87.3</td>\n",
       "      <td>0.5</td>\n",
       "      <td>86.3</td>\n",
       "      <td>0.5</td>\n",
       "      <td>86.1</td>\n",
       "      <td>0.5</td>\n",
       "      <td>88.2</td>\n",
       "      <td>0.4</td>\n",
       "    </tr>\n",
       "    <tr>\n",
       "      <th>2</th>\n",
       "      <td>go_emotions</td>\n",
       "      <td>32.5</td>\n",
       "      <td>0.3</td>\n",
       "      <td>16.0</td>\n",
       "      <td>1.2</td>\n",
       "      <td>15.2</td>\n",
       "      <td>1.2</td>\n",
       "      <td>21.8</td>\n",
       "      <td>1.4</td>\n",
       "    </tr>\n",
       "    <tr>\n",
       "      <th>3</th>\n",
       "      <td>social_media</td>\n",
       "      <td>57.1</td>\n",
       "      <td>0.1</td>\n",
       "      <td>49.9</td>\n",
       "      <td>2.6</td>\n",
       "      <td>55.0</td>\n",
       "      <td>4.6</td>\n",
       "      <td>51.9</td>\n",
       "      <td>2.7</td>\n",
       "    </tr>\n",
       "    <tr>\n",
       "      <th>4</th>\n",
       "      <td>sst5_cohere</td>\n",
       "      <td>38.7</td>\n",
       "      <td>6.4</td>\n",
       "      <td>36.3</td>\n",
       "      <td>5.6</td>\n",
       "      <td>40.1</td>\n",
       "      <td>5.9</td>\n",
       "      <td>54.2</td>\n",
       "      <td>2.9</td>\n",
       "    </tr>\n",
       "    <tr>\n",
       "      <th>5</th>\n",
       "      <td>yahoo_cohere</td>\n",
       "      <td>73.2</td>\n",
       "      <td>0.3</td>\n",
       "      <td>46.2</td>\n",
       "      <td>0.1</td>\n",
       "      <td>45.7</td>\n",
       "      <td>0.2</td>\n",
       "      <td>47.4</td>\n",
       "      <td>0.4</td>\n",
       "    </tr>\n",
       "  </tbody>\n",
       "</table>\n",
       "</div>"
      ],
      "text/plain": [
       "         dataset  accuracy_mean  accuracy_std  f1_score_mean  f1_score_std  \\\n",
       "0  20_newsgroups           60.9           0.8           40.5           0.5   \n",
       "1        ag_news           87.3           0.5           86.3           0.5   \n",
       "2    go_emotions           32.5           0.3           16.0           1.2   \n",
       "3   social_media           57.1           0.1           49.9           2.6   \n",
       "4    sst5_cohere           38.7           6.4           36.3           5.6   \n",
       "5   yahoo_cohere           73.2           0.3           46.2           0.1   \n",
       "\n",
       "   recall_mean  recall_std  precision_mean  precision_std  \n",
       "0         40.2         0.3            50.1            1.2  \n",
       "1         86.1         0.5            88.2            0.4  \n",
       "2         15.2         1.2            21.8            1.4  \n",
       "3         55.0         4.6            51.9            2.7  \n",
       "4         40.1         5.9            54.2            2.9  \n",
       "5         45.7         0.2            47.4            0.4  "
      ]
     },
     "execution_count": 5,
     "metadata": {},
     "output_type": "execute_result"
    }
   ],
   "source": [
    "# Wydobycie nazwy zbioru danych (dla nazw jak \"20_newsgroups\")\n",
    "df['dataset'] = df['file'].apply(lambda x: '_'.join(x.split('_')[0:2]))\n",
    "# df['num'] = df['file'].apply(lambda x: '_'.join(x.split('_')[6:9]))\n",
    "\n",
    "# Wskazanie tylko kolumn numerycznych\n",
    "metrics = ['accuracy', 'f1_score', 'recall', 'precision']\n",
    "\n",
    "# Grupowanie i liczenie średniej oraz odchylenia standardowego\n",
    "summary = df.groupby('dataset')[metrics].agg(['mean', 'std'])\n",
    "\n",
    "# Zaokrąglenie wyników\n",
    "summary = (summary*100).round(1)\n",
    "\n",
    "# Spłaszczenie nazw kolumn\n",
    "summary.columns = ['_'.join(col) for col in summary.columns]\n",
    "\n",
    "# Reset indeksu, aby 'dataset' był kolumną\n",
    "summary = summary.reset_index()\n",
    "\n",
    "# Wyświetlenie wyników\n",
    "summary\n",
    "\n"
   ]
  }
 ],
 "metadata": {
  "kernelspec": {
   "display_name": "anote",
   "language": "python",
   "name": "python3"
  },
  "language_info": {
   "codemirror_mode": {
    "name": "ipython",
    "version": 3
   },
   "file_extension": ".py",
   "mimetype": "text/x-python",
   "name": "python",
   "nbconvert_exporter": "python",
   "pygments_lexer": "ipython3",
   "version": "3.12.7"
  }
 },
 "nbformat": 4,
 "nbformat_minor": 2
}
