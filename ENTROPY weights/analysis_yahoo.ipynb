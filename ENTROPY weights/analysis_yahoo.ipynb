{
 "cells": [
  {
   "cell_type": "code",
   "execution_count": 93,
   "metadata": {},
   "outputs": [],
   "source": [
    "import pandas as pd\n",
    "import pprint\n",
    "import ast\n",
    "import json\n",
    "import numpy as np\n",
    "from scipy.stats import entropy\n",
    "from scipy.special import softmax\n",
    "import numpy as np\n",
    "import pandas as pd\n",
    "from scipy.special import softmax\n",
    "from scipy.stats import entropy\n",
    "import ast\n",
    "\n"
   ]
  },
  {
   "cell_type": "code",
   "execution_count": 94,
   "metadata": {},
   "outputs": [],
   "source": [
    "from dict import newsgroups_labels"
   ]
  },
  {
   "cell_type": "code",
   "execution_count": 95,
   "metadata": {},
   "outputs": [],
   "source": [
    "dict_map = newsgroups_labels"
   ]
  },
  {
   "cell_type": "code",
   "execution_count": 96,
   "metadata": {},
   "outputs": [],
   "source": [
    "\n",
    "def calculate_metric_with_true_label(df, column_name):\n",
    "    \n",
    "\n",
    "    def parse_top_logprobs(val):\n",
    "        if isinstance(val, str):\n",
    "            try:\n",
    "                return ast.literal_eval(val)\n",
    "            except Exception as e:\n",
    "                print(f\"❌ Nie udało się sparsować: {val[:60]}... ➡ {e}\")\n",
    "                return None\n",
    "        return val\n",
    "\n",
    "    df['top_logprobs'] = df['top_logprobs'].apply(parse_top_logprobs)\n",
    "    \n",
    "    df['logprobs_cal'] = df['top_logprobs'].apply(\n",
    "    lambda x: np.array([item['logprob'] for item in x if isinstance(item, dict) and 'logprob' in item])\n",
    "    if isinstance(x, list) else np.array([])\n",
    ")\n",
    "\n",
    "\n",
    "\n",
    "    # Przekształcenie logprobs do prawdopodobieństw przez softmax\n",
    "    df['probs'] = df['logprobs_cal'].apply(\n",
    "        lambda logprobs: softmax(logprobs) if len(logprobs) > 0 else np.array([])\n",
    "    )\n",
    "\n",
    "    # Entropia rozkładu\n",
    "    df['entropy'] = df['probs'].apply(\n",
    "        lambda probs: entropy(probs, base=2) if len(probs) > 0 else np.nan\n",
    "    )\n",
    "\n",
    "    # Margin: różnica między top-1 a top-2\n",
    "    df['margin'] = df['probs'].apply(\n",
    "        lambda probs: np.sort(probs)[-1] - np.sort(probs)[-2] if len(probs) > 1 else np.nan\n",
    "    )\n",
    "\n",
    "    # KL divergence względem idealnego rozkładu (1.0 na poprawnej etykiecie)\n",
    "    def kl_div(probs, top_logprobs, label):\n",
    "        if not isinstance(top_logprobs, list) or len(probs) == 0:\n",
    "            return np.nan\n",
    "\n",
    "        try:\n",
    "            # lista tokenów jako stringi\n",
    "            tokens = [str(item['token']).strip().lower() for item in top_logprobs if isinstance(item, dict) and 'token' in item]\n",
    "            label_str = str(label).strip().lower()\n",
    "\n",
    "            if label_str not in tokens:\n",
    "                return np.nan\n",
    "\n",
    "            match_idx = tokens.index(label_str)\n",
    "            ideal_dist = np.zeros_like(probs)\n",
    "            ideal_dist[match_idx] = 1.0\n",
    "\n",
    "            return entropy(ideal_dist, probs, base=2)\n",
    "\n",
    "        except Exception as e:\n",
    "            print(f\"⚠️ Błąd w kl_div: {e}\")\n",
    "            return np.nan\n",
    "\n",
    "\n",
    "    df['kl_divergence'] = df.apply(\n",
    "        lambda row: kl_div(row['probs'], row['top_logprobs'], row[column_name]), axis=1\n",
    "    )\n",
    "\n",
    "    # Normalizacja (min-max)\n",
    "    for col in ['entropy', 'margin', 'kl_divergence']:\n",
    "        norm_col = f'normalized_{col}'\n",
    "        min_val = df[col].min()\n",
    "        max_val = df[col].max()\n",
    "        if pd.notnull(min_val) and pd.notnull(max_val) and max_val > min_val:\n",
    "            df[norm_col] = (df[col] - min_val) / (max_val - min_val)\n",
    "        else:\n",
    "            df[norm_col] = 0.0\n",
    "\n",
    "    return df\n",
    "\n",
    "\n"
   ]
  },
  {
   "cell_type": "code",
   "execution_count": 97,
   "metadata": {},
   "outputs": [],
   "source": [
    "model = 'gpt4omini'\n",
    "dataset_tag = '20_newsgroups'\n",
    "prompt = 'no_samples_numbers'\n",
    "temp = 0\n",
    "exp = 1"
   ]
  },
  {
   "cell_type": "code",
   "execution_count": 98,
   "metadata": {},
   "outputs": [],
   "source": [
    "\n",
    "path = f'../NO_EXAMPLES/results/{prompt}_temp{0}/{model}/{dataset_tag}_{model}_{prompt}_temp{temp}_exp{exp}.csv'\n",
    "df = pd.read_csv(path).sample(n=150, random_state=43)\n",
    "      \n"
   ]
  },
  {
   "cell_type": "code",
   "execution_count": 99,
   "metadata": {},
   "outputs": [
    {
     "data": {
      "text/html": [
       "<div>\n",
       "<style scoped>\n",
       "    .dataframe tbody tr th:only-of-type {\n",
       "        vertical-align: middle;\n",
       "    }\n",
       "\n",
       "    .dataframe tbody tr th {\n",
       "        vertical-align: top;\n",
       "    }\n",
       "\n",
       "    .dataframe thead th {\n",
       "        text-align: right;\n",
       "    }\n",
       "</style>\n",
       "<table border=\"1\" class=\"dataframe\">\n",
       "  <thead>\n",
       "    <tr style=\"text-align: right;\">\n",
       "      <th></th>\n",
       "      <th>text</th>\n",
       "      <th>output</th>\n",
       "      <th>logprobs</th>\n",
       "      <th>top_logprobs</th>\n",
       "      <th>original_label</th>\n",
       "    </tr>\n",
       "  </thead>\n",
       "  <tbody>\n",
       "    <tr>\n",
       "      <th>1480</th>\n",
       "      <td>looking package takes inputs set geometric obj...</td>\n",
       "      <td>4</td>\n",
       "      <td>{'content': [{'token': '4', 'bytes': [52], 'lo...</td>\n",
       "      <td>[{'token': '4', 'bytes': [52], 'logprob': -0.1...</td>\n",
       "      <td>comp.graphics</td>\n",
       "    </tr>\n",
       "    <tr>\n",
       "      <th>1312</th>\n",
       "      <td>article mark singer writes exuberance disappea...</td>\n",
       "      <td>2</td>\n",
       "      <td>{'content': [{'token': '2', 'bytes': [50], 'lo...</td>\n",
       "      <td>[{'token': '2', 'bytes': [50], 'logprob': -1.8...</td>\n",
       "      <td>rec.sport.baseball</td>\n",
       "    </tr>\n",
       "    <tr>\n",
       "      <th>305</th>\n",
       "      <td>jim halat writes article ken arromdee writes a...</td>\n",
       "      <td>4</td>\n",
       "      <td>{'content': [{'token': '4', 'bytes': [52], 'lo...</td>\n",
       "      <td>[{'token': '4', 'bytes': [52], 'logprob': -0.0...</td>\n",
       "      <td>talk.religion.misc</td>\n",
       "    </tr>\n",
       "    <tr>\n",
       "      <th>1545</th>\n",
       "      <td>article pack rat writes something bothering wa...</td>\n",
       "      <td>7</td>\n",
       "      <td>{'content': [{'token': '7', 'bytes': [55], 'lo...</td>\n",
       "      <td>[{'token': '7', 'bytes': [55], 'logprob': -2.5...</td>\n",
       "      <td>sci.space</td>\n",
       "    </tr>\n",
       "    <tr>\n",
       "      <th>1716</th>\n",
       "      <td>article pat writes article henry spencer write...</td>\n",
       "      <td>7</td>\n",
       "      <td>{'content': [{'token': '7', 'bytes': [55], 'lo...</td>\n",
       "      <td>[{'token': '7', 'bytes': [55], 'logprob': -0.0...</td>\n",
       "      <td>sci.space</td>\n",
       "    </tr>\n",
       "    <tr>\n",
       "      <th>...</th>\n",
       "      <td>...</td>\n",
       "      <td>...</td>\n",
       "      <td>...</td>\n",
       "      <td>...</td>\n",
       "      <td>...</td>\n",
       "    </tr>\n",
       "    <tr>\n",
       "      <th>888</th>\n",
       "      <td>simple eh rather get em used new must guarantee</td>\n",
       "      <td>13</td>\n",
       "      <td>{'content': [{'token': '13', 'bytes': [49, 51]...</td>\n",
       "      <td>[{'token': '13', 'bytes': [49, 51], 'logprob':...</td>\n",
       "      <td>misc.forsale</td>\n",
       "    </tr>\n",
       "    <tr>\n",
       "      <th>1439</th>\n",
       "      <td>anyone know causes evergrowing black border ar...</td>\n",
       "      <td>8</td>\n",
       "      <td>{'content': [{'token': '8', 'bytes': [56], 'lo...</td>\n",
       "      <td>[{'token': '8', 'bytes': [56], 'logprob': -3.3...</td>\n",
       "      <td>sci.electronics</td>\n",
       "    </tr>\n",
       "    <tr>\n",
       "      <th>1053</th>\n",
       "      <td>condition propane tank mentioned bd survivors ...</td>\n",
       "      <td>18</td>\n",
       "      <td>{'content': [{'token': '18', 'bytes': [49, 56]...</td>\n",
       "      <td>[{'token': '18', 'bytes': [49, 56], 'logprob':...</td>\n",
       "      <td>talk.politics.guns</td>\n",
       "    </tr>\n",
       "    <tr>\n",
       "      <th>152</th>\n",
       "      <td>sale voice processing system ibm compatibles i...</td>\n",
       "      <td>13</td>\n",
       "      <td>{'content': [{'token': '13', 'bytes': [49, 51]...</td>\n",
       "      <td>[{'token': '13', 'bytes': [49, 51], 'logprob':...</td>\n",
       "      <td>misc.forsale</td>\n",
       "    </tr>\n",
       "    <tr>\n",
       "      <th>1933</th>\n",
       "      <td>denon dcr high power pull cassette deck cd cha...</td>\n",
       "      <td>5</td>\n",
       "      <td>{'content': [{'token': '5', 'bytes': [53], 'lo...</td>\n",
       "      <td>[{'token': '5', 'bytes': [53], 'logprob': -0.0...</td>\n",
       "      <td>misc.forsale</td>\n",
       "    </tr>\n",
       "  </tbody>\n",
       "</table>\n",
       "<p>150 rows × 5 columns</p>\n",
       "</div>"
      ],
      "text/plain": [
       "                                                   text  output  \\\n",
       "1480  looking package takes inputs set geometric obj...       4   \n",
       "1312  article mark singer writes exuberance disappea...       2   \n",
       "305   jim halat writes article ken arromdee writes a...       4   \n",
       "1545  article pack rat writes something bothering wa...       7   \n",
       "1716  article pat writes article henry spencer write...       7   \n",
       "...                                                 ...     ...   \n",
       "888     simple eh rather get em used new must guarantee      13   \n",
       "1439  anyone know causes evergrowing black border ar...       8   \n",
       "1053  condition propane tank mentioned bd survivors ...      18   \n",
       "152   sale voice processing system ibm compatibles i...      13   \n",
       "1933  denon dcr high power pull cassette deck cd cha...       5   \n",
       "\n",
       "                                               logprobs  \\\n",
       "1480  {'content': [{'token': '4', 'bytes': [52], 'lo...   \n",
       "1312  {'content': [{'token': '2', 'bytes': [50], 'lo...   \n",
       "305   {'content': [{'token': '4', 'bytes': [52], 'lo...   \n",
       "1545  {'content': [{'token': '7', 'bytes': [55], 'lo...   \n",
       "1716  {'content': [{'token': '7', 'bytes': [55], 'lo...   \n",
       "...                                                 ...   \n",
       "888   {'content': [{'token': '13', 'bytes': [49, 51]...   \n",
       "1439  {'content': [{'token': '8', 'bytes': [56], 'lo...   \n",
       "1053  {'content': [{'token': '18', 'bytes': [49, 56]...   \n",
       "152   {'content': [{'token': '13', 'bytes': [49, 51]...   \n",
       "1933  {'content': [{'token': '5', 'bytes': [53], 'lo...   \n",
       "\n",
       "                                           top_logprobs      original_label  \n",
       "1480  [{'token': '4', 'bytes': [52], 'logprob': -0.1...       comp.graphics  \n",
       "1312  [{'token': '2', 'bytes': [50], 'logprob': -1.8...  rec.sport.baseball  \n",
       "305   [{'token': '4', 'bytes': [52], 'logprob': -0.0...  talk.religion.misc  \n",
       "1545  [{'token': '7', 'bytes': [55], 'logprob': -2.5...           sci.space  \n",
       "1716  [{'token': '7', 'bytes': [55], 'logprob': -0.0...           sci.space  \n",
       "...                                                 ...                 ...  \n",
       "888   [{'token': '13', 'bytes': [49, 51], 'logprob':...        misc.forsale  \n",
       "1439  [{'token': '8', 'bytes': [56], 'logprob': -3.3...     sci.electronics  \n",
       "1053  [{'token': '18', 'bytes': [49, 56], 'logprob':...  talk.politics.guns  \n",
       "152   [{'token': '13', 'bytes': [49, 51], 'logprob':...        misc.forsale  \n",
       "1933  [{'token': '5', 'bytes': [53], 'logprob': -0.0...        misc.forsale  \n",
       "\n",
       "[150 rows x 5 columns]"
      ]
     },
     "execution_count": 99,
     "metadata": {},
     "output_type": "execute_result"
    }
   ],
   "source": [
    "df"
   ]
  },
  {
   "cell_type": "code",
   "execution_count": 100,
   "metadata": {},
   "outputs": [],
   "source": [
    "df['original_label_map'] = df['original_label'].map(dict_map)"
   ]
  },
  {
   "cell_type": "code",
   "execution_count": 101,
   "metadata": {},
   "outputs": [],
   "source": [
    "df['is_error'] = df['original_label_map'] != df['output']"
   ]
  },
  {
   "cell_type": "code",
   "execution_count": 102,
   "metadata": {},
   "outputs": [],
   "source": [
    "df_metrics = calculate_metric_with_true_label(df, 'original_label_map')\n"
   ]
  },
  {
   "cell_type": "code",
   "execution_count": 103,
   "metadata": {},
   "outputs": [
    {
     "name": "stdout",
     "output_type": "stream",
     "text": [
      "is_error         1.000000\n",
      "entropy          0.391039\n",
      "margin          -0.358874\n",
      "kl_divergence    0.864034\n",
      "Name: is_error, dtype: float64\n"
     ]
    }
   ],
   "source": [
    "corr_matrix = df_metrics[['is_error', 'entropy', 'margin', 'kl_divergence']].corr(method='pearson')\n",
    "print(corr_matrix['is_error'])\n"
   ]
  },
  {
   "cell_type": "code",
   "execution_count": 104,
   "metadata": {},
   "outputs": [
    {
     "name": "stdout",
     "output_type": "stream",
     "text": [
      "Point-biserial r = 0.3910, p = 7.5127e-07\n"
     ]
    }
   ],
   "source": [
    "from scipy.stats import pointbiserialr\n",
    "\n",
    "r, p = pointbiserialr(df_metrics['is_error'], df_metrics['entropy'])\n",
    "print(f\"Point-biserial r = {r:.4f}, p = {p:.4e}\")\n"
   ]
  },
  {
   "cell_type": "code",
   "execution_count": 105,
   "metadata": {},
   "outputs": [
    {
     "name": "stdout",
     "output_type": "stream",
     "text": [
      "Point-biserial r = -0.3589, p = 6.4929e-06\n"
     ]
    }
   ],
   "source": [
    "r, p = pointbiserialr(df_metrics['is_error'], df_metrics['margin'])\n",
    "print(f\"Point-biserial r = {r:.4f}, p = {p:.4e}\")"
   ]
  },
  {
   "cell_type": "code",
   "execution_count": 106,
   "metadata": {},
   "outputs": [
    {
     "data": {
      "text/html": [
       "<div>\n",
       "<style scoped>\n",
       "    .dataframe tbody tr th:only-of-type {\n",
       "        vertical-align: middle;\n",
       "    }\n",
       "\n",
       "    .dataframe tbody tr th {\n",
       "        vertical-align: top;\n",
       "    }\n",
       "\n",
       "    .dataframe thead th {\n",
       "        text-align: right;\n",
       "    }\n",
       "</style>\n",
       "<table border=\"1\" class=\"dataframe\">\n",
       "  <thead>\n",
       "    <tr style=\"text-align: right;\">\n",
       "      <th></th>\n",
       "      <th>text</th>\n",
       "      <th>output</th>\n",
       "      <th>logprobs</th>\n",
       "      <th>top_logprobs</th>\n",
       "      <th>original_label</th>\n",
       "      <th>original_label_map</th>\n",
       "      <th>is_error</th>\n",
       "      <th>logprobs_cal</th>\n",
       "      <th>probs</th>\n",
       "      <th>entropy</th>\n",
       "      <th>margin</th>\n",
       "      <th>kl_divergence</th>\n",
       "      <th>normalized_entropy</th>\n",
       "      <th>normalized_margin</th>\n",
       "      <th>normalized_kl_divergence</th>\n",
       "    </tr>\n",
       "  </thead>\n",
       "  <tbody>\n",
       "  </tbody>\n",
       "</table>\n",
       "</div>"
      ],
      "text/plain": [
       "Empty DataFrame\n",
       "Columns: [text, output, logprobs, top_logprobs, original_label, original_label_map, is_error, logprobs_cal, probs, entropy, margin, kl_divergence, normalized_entropy, normalized_margin, normalized_kl_divergence]\n",
       "Index: []"
      ]
     },
     "execution_count": 106,
     "metadata": {},
     "output_type": "execute_result"
    }
   ],
   "source": [
    "df_nan_kl = df[df['kl_divergence'].isna()]\n",
    "df_nan_kl\n"
   ]
  },
  {
   "cell_type": "code",
   "execution_count": 107,
   "metadata": {},
   "outputs": [
    {
     "name": "stdout",
     "output_type": "stream",
     "text": [
      "r = 0.8640, p = 5.8340e-46\n"
     ]
    }
   ],
   "source": [
    "df_filtered = df.dropna(subset=['is_error', 'kl_divergence'])\n",
    "\n",
    "r, p = pointbiserialr(df_filtered['is_error'], df_filtered['kl_divergence'])\n",
    "print(f\"r = {r:.4f}, p = {p:.4e}\")"
   ]
  },
  {
   "cell_type": "code",
   "execution_count": null,
   "metadata": {},
   "outputs": [],
   "source": []
  }
 ],
 "metadata": {
  "kernelspec": {
   "display_name": "anote",
   "language": "python",
   "name": "python3"
  },
  "language_info": {
   "codemirror_mode": {
    "name": "ipython",
    "version": 3
   },
   "file_extension": ".py",
   "mimetype": "text/x-python",
   "name": "python",
   "nbconvert_exporter": "python",
   "pygments_lexer": "ipython3",
   "version": "3.12.7"
  }
 },
 "nbformat": 4,
 "nbformat_minor": 2
}
