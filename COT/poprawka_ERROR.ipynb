{
 "cells": [
  {
   "cell_type": "code",
   "execution_count": 9,
   "metadata": {},
   "outputs": [],
   "source": [
    "import os \n",
    "import sys\n",
    "sys.path.append(os.path.abspath(os.path.join(os.getcwd(), '..')))\n",
    "import pandas as pd # type: ignore"
   ]
  },
  {
   "cell_type": "code",
   "execution_count": 10,
   "metadata": {},
   "outputs": [],
   "source": [
    "from utils import get_dataset, get_model_by_tag, get_prompt_template\n",
    "from LLMAnnotator import LLMAnnotator"
   ]
  },
  {
   "cell_type": "code",
   "execution_count": 11,
   "metadata": {},
   "outputs": [],
   "source": [
    "os.environ['OPENAI_API_KEY_CLARIN']=os.getenv(\"OPENAI_API_KEY_CLARIN\")\n",
    "os.environ[\"LANGCHAIN_API_KEY\"]=os.getenv(\"LANGCHAIN_API_KEY\")\n",
    "os.environ[\"LANGCHAIN_TRACING_V2\"]=\"true\"\n",
    "os.environ[\"LANGCHAIN_PROJECT\"]=os.getenv(\"LANGCHAIN_PROJECT\")\n",
    "\n",
    "token = os.getenv(\"OPENAI_API_KEY_CLARIN\")"
   ]
  },
  {
   "cell_type": "code",
   "execution_count": 12,
   "metadata": {},
   "outputs": [],
   "source": [
    "model_tag = 'llama3'  \n",
    "dataset_tag = 'yahoo'\n",
    "prompt = 'cot_random_samples_cohere'\n",
    "temp = 0.3\n",
    "number_of_experimet = 1\n",
    "selected_samples =  f'{model_tag}_random42_60'"
   ]
  },
  {
   "cell_type": "code",
   "execution_count": 13,
   "metadata": {},
   "outputs": [],
   "source": [
    "path = f'results/cot_random_samples_cohere_temp0.3/llama3/yahoo_llama3_cot_random_samples_cohere_llama3_random42_60_temp0.3_exp{number_of_experimet}.csv'"
   ]
  },
  {
   "cell_type": "code",
   "execution_count": 6,
   "metadata": {},
   "outputs": [],
   "source": [
    "model = get_model_by_tag(model_tag, token, temp)  \n",
    "dataset_for_annotation = get_dataset(dataset_tag=dataset_tag)\n",
    "prompt_txt = get_prompt_template(dataset_tag, prompt)\n",
    "examples_for_prompt = pd.read_csv(f'./selected_samples/{dataset_tag}/{selected_samples}.csv')\n",
    "\n",
    "output_path = f'./results/{prompt}_temp{temp}/{model_tag}/{dataset_tag}_{model_tag}_{prompt}_{selected_samples}_temp{temp}_exp{number_of_experimet}.csv'\n",
    "os.makedirs(f'./results/{prompt}_temp{temp}/{model_tag}', exist_ok=True)\n"
   ]
  },
  {
   "cell_type": "code",
   "execution_count": 14,
   "metadata": {},
   "outputs": [],
   "source": [
    "text_col = \"text\"\n",
    "label_col = \"label\"\n",
    "output_col = \"output\""
   ]
  },
  {
   "cell_type": "code",
   "execution_count": 15,
   "metadata": {},
   "outputs": [],
   "source": [
    "import pandas as pd\n",
    "import re\n",
    "\n",
    "def extract_bracketed_word(df, read_col, write_col):\n",
    "    \"\"\"\n",
    "    Wyodrębnia pierwszy wyraz objęty nawiasami [] z kolumny `read_col`\n",
    "    i zapisuje go do kolumny `write_col`.\n",
    "    \n",
    "    :param df: DataFrame wejściowy\n",
    "    :param read_col: Nazwa kolumny z której odczytywany jest tekst\n",
    "    :param write_col: Nazwa kolumny do której zapisywany będzie wynik\n",
    "    :return: DataFrame z nową kolumną\n",
    "    \"\"\"\n",
    "    def extract_last_bracketed(text):\n",
    "        matches = re.findall(r'\\[([^\\[\\]]+?)\\]', str(text))\n",
    "        return matches[-1] if matches else None\n",
    "    \n",
    "    df[write_col] = df[read_col].apply(extract_last_bracketed)\n",
    "    return df\n",
    "\n",
    "\n",
    "import pandas as pd\n",
    "\n",
    "def validate_text_column(path, df_reference):\n",
    "    # Wczytaj DataFrame z pliku CSV\n",
    "    df = pd.read_csv(path)\n",
    "    \n",
    "    # Pobierz unikalne wartości z kolumny 'text' z df_reference\n",
    "    reference_texts = set(df_reference['text'].unique())\n",
    "    \n",
    "    # Dodaj kolumnę 'is_valid'\n",
    "    df['was_in_selected_samples'] = df['text'].isin(reference_texts)\n",
    "    df = extract_bracketed_word(df, 'output', 'extracted_label')\n",
    "    df.to_csv(path, index=False)\n",
    "    \n",
    "    return df"
   ]
  },
  {
   "cell_type": "code",
   "execution_count": 16,
   "metadata": {},
   "outputs": [],
   "source": [
    "def reannotate_errors(output_path, model, dataset, examples_for_prompt, prompt_txt, text_col=\"text\", label_col=\"label\", output_col=\"output\"):\n",
    "    # Wczytaj pierwotny DataFrame\n",
    "    df_full = pd.read_csv(output_path)\n",
    "    \n",
    "    # Sprawdź, czy kolumna 'error' istnieje\n",
    "    if 'error' not in df_full.columns:\n",
    "        print(\"Brak kolumny 'error' – nie znaleziono błędów do ponownej adnotacji.\")\n",
    "        return df_full\n",
    "    \n",
    "    # Wybierz tylko wiersze z błędami\n",
    "    df_errors = df_full[df_full['error'].notnull()].copy()\n",
    "    \n",
    "    if df_errors.empty:\n",
    "        print(\"Brak wierszy z błędami do przetworzenia.\")\n",
    "        return df_full\n",
    "\n",
    "    print(f\"Znaleziono {len(df_errors)} wierszy z błędami. Przetwarzanie ponowne...\")\n",
    "\n",
    "    # Tworzymy adnotator tylko dla błędnych przykładów\n",
    "    annotator = LLMAnnotator(\n",
    "        model=model,\n",
    "        dataset=dataset,\n",
    "        examples_for_prompt=examples_for_prompt,\n",
    "        prompt_template=prompt_txt,\n",
    "        column_text=text_col,\n",
    "        column_label=label_col,\n",
    "        column_output=output_col\n",
    "    )\n",
    "    \n",
    "    # Ponowna adnotacja tylko błędnych danych\n",
    "    df_errors_fixed = annotator.get_results()\n",
    "    \n",
    "    # Upewniamy się, że indeksy pasują\n",
    "    df_full.update(df_errors_fixed)\n",
    "\n",
    "    # Zapisz zaktualizowany DataFrame\n",
    "    df_full.to_csv(output_path, index=False)\n",
    "    \n",
    "    print(\"Aktualizacja zakończona.\")\n",
    "    return df_full\n"
   ]
  },
  {
   "cell_type": "code",
   "execution_count": null,
   "metadata": {},
   "outputs": [
    {
     "name": "stdout",
     "output_type": "stream",
     "text": [
      "Znaleziono 77 wierszy z błędami. Przetwarzanie ponowne...\n"
     ]
    },
    {
     "name": "stderr",
     "output_type": "stream",
     "text": [
      "/home/julita/Desktop/anote-skrpyty 19.04/LLMAnnotator.py:77: LangChainDeprecationWarning: The class `LLMChain` was deprecated in LangChain 0.1.17 and will be removed in 1.0. Use :meth:`~RunnableSequence, e.g., `prompt | llm`` instead.\n",
      "  self.chain = LLMChain(llm=self.model, prompt=self.prompt)\n"
     ]
    },
    {
     "name": "stdout",
     "output_type": "stream",
     "text": [
      "Nr: 0, próba 1/30 – błąd: Request failed with status 429: {\"detail\":\"The model is currently overloaded. Please try again later.\"}\n",
      "Nr: 0, próba 2/30 – błąd: Request failed with status 429: {\"detail\":\"The model is currently overloaded. Please try again later.\"}\n",
      "Nr: 0, próba 3/30 – błąd: Request failed with status 429: {\"detail\":\"The model is currently overloaded. Please try again later.\"}\n",
      "Nr: 0, próba 4/30 – błąd: Request failed with status 429: {\"detail\":\"The model is currently overloaded. Please try again later.\"}\n",
      "Nr: 0, próba 5/30 – błąd: Request failed with status 429: {\"detail\":\"The model is currently overloaded. Please try again later.\"}\n",
      "Nr: 0, próba 6/30 – błąd: Request failed with status 429: {\"detail\":\"The model is currently overloaded. Please try again later.\"}\n"
     ]
    },
    {
     "name": "stderr",
     "output_type": "stream",
     "text": [
      "Exception ignored in: <Finalize object, dead>\n",
      "Traceback (most recent call last):\n",
      "  File \"/home/julita/anaconda3/envs/anote/lib/python3.12/multiprocessing/util.py\", line 227, in __call__\n",
      "    res = self._callback(*self._args, **self._kwargs)\n",
      "          ^^^^^^^^^^^^^^^^^^^^^^^^^^^^^^^^^^^^^^^^^^^\n",
      "  File \"/home/julita/anaconda3/envs/anote/lib/python3.12/multiprocessing/managers.py\", line 675, in _finalize_manager\n",
      "    process.join(timeout=shutdown_timeout)\n",
      "  File \"/home/julita/anaconda3/envs/anote/lib/python3.12/multiprocessing/process.py\", line 149, in join\n",
      "    res = self._popen.wait(timeout)\n",
      "          ^^^^^^^^^^^^^^^^^^^^^^^^^\n",
      "  File \"/home/julita/anaconda3/envs/anote/lib/python3.12/multiprocessing/popen_fork.py\", line 40, in wait\n",
      "    if not wait([self.sentinel], timeout):\n",
      "           ^^^^^^^^^^^^^^^^^^^^^^^^^^^^^^\n",
      "  File \"/home/julita/anaconda3/envs/anote/lib/python3.12/multiprocessing/connection.py\", line 1136, in wait\n",
      "    ready = selector.select(timeout)\n",
      "            ^^^^^^^^^^^^^^^^^^^^^^^^\n",
      "  File \"/home/julita/anaconda3/envs/anote/lib/python3.12/selectors.py\", line 415, in select\n",
      "    fd_event_list = self._selector.poll(timeout)\n",
      "                    ^^^^^^^^^^^^^^^^^^^^^^^^^^^^\n",
      "KeyboardInterrupt: \n"
     ]
    },
    {
     "name": "stdout",
     "output_type": "stream",
     "text": [
      "Nr: 0, próba 7/30 – błąd: Request failed with status 429: {\"detail\":\"The model is currently overloaded. Please try again later.\"}\n",
      "Nr: 0, próba 8/30 – błąd: Request failed with status 429: {\"detail\":\"The model is currently overloaded. Please try again later.\"}\n",
      "Nr: 0, próba 9/30 – błąd: Request failed with status 429: {\"detail\":\"The model is currently overloaded. Please try again later.\"}\n",
      "Nr: 0, próba 10/30 – błąd: Request failed with status 429: {\"detail\":\"The model is currently overloaded. Please try again later.\"}\n",
      "Nr: 0, próba 11/30 – błąd: Request failed with status 429: {\"detail\":\"The model is currently overloaded. Please try again later.\"}\n",
      "Nr: 0, próba 12/30 – błąd: Request failed with status 429: {\"detail\":\"The model is currently overloaded. Please try again later.\"}\n",
      "Nr: 0, próba 13/30 – błąd: Request failed with status 429: {\"detail\":\"The model is currently overloaded. Please try again later.\"}\n",
      "Nr: 0, próba 14/30 – błąd: Request failed with status 429: {\"detail\":\"The model is currently overloaded. Please try again later.\"}\n",
      "Nr: 0, próba 15/30 – błąd: Request failed with status 429: {\"detail\":\"The model is currently overloaded. Please try again later.\"}\n",
      "Nr: 0, próba 16/30 – błąd: Request failed with status 429: {\"detail\":\"The model is currently overloaded. Please try again later.\"}\n",
      "Nr: 0, próba 17/30 – błąd: Request failed with status 429: {\"detail\":\"The model is currently overloaded. Please try again later.\"}\n",
      "Nr: 0, próba 18/30 – błąd: Request failed with status 429: {\"detail\":\"The model is currently overloaded. Please try again later.\"}\n",
      "Nr: 0, próba 19/30 – błąd: Request failed with status 429: {\"detail\":\"The model is currently overloaded. Please try again later.\"}\n",
      "Nr: 0, próba 20/30 – błąd: Request failed with status 429: {\"detail\":\"The model is currently overloaded. Please try again later.\"}\n",
      "Nr: 0, próba 21/30 – błąd: Request failed with status 429: {\"detail\":\"The model is currently overloaded. Please try again later.\"}\n",
      "Nr: 0, próba 22/30 – błąd: Request failed with status 429: {\"detail\":\"The model is currently overloaded. Please try again later.\"}\n",
      "Nr: 0, próba 23/30 – błąd: Request failed with status 429: {\"detail\":\"The model is currently overloaded. Please try again later.\"}\n",
      "Nr: 0, próba 24/30 – błąd: Request failed with status 429: {\"detail\":\"The model is currently overloaded. Please try again later.\"}\n",
      "Nr: 0, próba 25/30 – błąd: Request failed with status 429: {\"detail\":\"The model is currently overloaded. Please try again later.\"}\n",
      "Nr: 0, próba 26/30 – błąd: Request failed with status 429: {\"detail\":\"The model is currently overloaded. Please try again later.\"}\n",
      "Nr: 0, próba 27/30 – błąd: Request failed with status 429: {\"detail\":\"The model is currently overloaded. Please try again later.\"}\n",
      "Nr: 0, próba 28/30 – błąd: Request failed with status 429: {\"detail\":\"The model is currently overloaded. Please try again later.\"}\n",
      "Nr: 0, próba 29/30 – błąd: Request failed with status 429: {\"detail\":\"The model is currently overloaded. Please try again later.\"}\n",
      "Nr: 0, próba 30/30 – błąd: Request failed with status 429: {\"detail\":\"The model is currently overloaded. Please try again later.\"}\n",
      "Nr: 1, próba 1/30 – błąd: Request failed with status 429: {\"detail\":\"The model is currently overloaded. Please try again later.\"}\n",
      "Nr: 1, próba 2/30 – błąd: Request failed with status 429: {\"detail\":\"The model is currently overloaded. Please try again later.\"}\n",
      "Nr: 1, próba 3/30 – błąd: Request failed with status 429: {\"detail\":\"The model is currently overloaded. Please try again later.\"}\n",
      "Nr: 1, próba 4/30 – błąd: Request failed with status 429: {\"detail\":\"The model is currently overloaded. Please try again later.\"}\n",
      "Nr: 1, próba 5/30 – błąd: Request failed with status 429: {\"detail\":\"The model is currently overloaded. Please try again later.\"}\n",
      "Nr: 1, próba 6/30 – błąd: Request failed with status 429: {\"detail\":\"The model is currently overloaded. Please try again later.\"}\n",
      "Nr: 1, próba 7/30 – błąd: Request failed with status 429: {\"detail\":\"The model is currently overloaded. Please try again later.\"}\n",
      "Nr: 1, próba 8/30 – błąd: Request failed with status 429: {\"detail\":\"The model is currently overloaded. Please try again later.\"}\n",
      "Nr: 1, próba 9/30 – błąd: Request failed with status 429: {\"detail\":\"The model is currently overloaded. Please try again later.\"}\n",
      "Nr: 1, próba 10/30 – błąd: Request failed with status 429: {\"detail\":\"The model is currently overloaded. Please try again later.\"}\n",
      "Nr: 1, próba 11/30 – błąd: Request failed with status 429: {\"detail\":\"The model is currently overloaded. Please try again later.\"}\n",
      "Nr: 1, próba 12/30 – błąd: Request failed with status 429: {\"detail\":\"The model is currently overloaded. Please try again later.\"}\n",
      "Nr: 1, próba 13/30 – błąd: Request failed with status 429: {\"detail\":\"The model is currently overloaded. Please try again later.\"}\n",
      "Nr: 1, próba 14/30 – błąd: Request failed with status 429: {\"detail\":\"The model is currently overloaded. Please try again later.\"}\n",
      "Nr: 1, próba 15/30 – błąd: Request failed with status 429: {\"detail\":\"The model is currently overloaded. Please try again later.\"}\n",
      "Nr: 1, próba 16/30 – błąd: Request failed with status 429: {\"detail\":\"The model is currently overloaded. Please try again later.\"}\n",
      "Nr: 1, próba 17/30 – błąd: Request failed with status 429: {\"detail\":\"The model is currently overloaded. Please try again later.\"}\n",
      "Nr: 1, próba 18/30 – błąd: Request failed with status 429: {\"detail\":\"The model is currently overloaded. Please try again later.\"}\n",
      "Nr: 1, próba 19/30 – błąd: Request failed with status 429: {\"detail\":\"The model is currently overloaded. Please try again later.\"}\n",
      "Nr: 1, próba 20/30 – błąd: Request failed with status 429: {\"detail\":\"The model is currently overloaded. Please try again later.\"}\n",
      "Nr: 1, próba 21/30 – błąd: Request failed with status 429: {\"detail\":\"The model is currently overloaded. Please try again later.\"}\n",
      "Nr: 1, próba 22/30 – błąd: Request failed with status 429: {\"detail\":\"The model is currently overloaded. Please try again later.\"}\n",
      "Nr: 1, próba 23/30 – błąd: Request failed with status 429: {\"detail\":\"The model is currently overloaded. Please try again later.\"}\n"
     ]
    }
   ],
   "source": [
    "df_full = reannotate_errors(path, model, dataset_for_annotation, examples_for_prompt, prompt_txt, text_col=text_col, label_col=label_col, output_col=output_col)"
   ]
  }
 ],
 "metadata": {
  "kernelspec": {
   "display_name": "anote",
   "language": "python",
   "name": "python3"
  },
  "language_info": {
   "codemirror_mode": {
    "name": "ipython",
    "version": 3
   },
   "file_extension": ".py",
   "mimetype": "text/x-python",
   "name": "python",
   "nbconvert_exporter": "python",
   "pygments_lexer": "ipython3",
   "version": "3.12.7"
  }
 },
 "nbformat": 4,
 "nbformat_minor": 2
}
