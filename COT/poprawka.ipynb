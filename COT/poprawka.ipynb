{
 "cells": [
  {
   "cell_type": "code",
   "execution_count": 11,
   "metadata": {},
   "outputs": [],
   "source": [
    "import pandas as pd\n",
    "from dict import depression_labels, newsgroups_labels, emotion_labels, news_labels, yahoo_labels, rating_labels\n",
    "import os\n",
    "import sys"
   ]
  },
  {
   "cell_type": "code",
   "execution_count": 12,
   "metadata": {},
   "outputs": [],
   "source": [
    "sys.path.append(os.path.abspath(os.path.join(os.getcwd(), '..')))"
   ]
  },
  {
   "cell_type": "code",
   "execution_count": 13,
   "metadata": {},
   "outputs": [],
   "source": [
    "dataset = '20_newsgroups'\n",
    "path = 'extracted/results/cot_random_samples_cohere_temp0/llama3'\n",
    "new_path = 'extracted_new' + path[9:]\n"
   ]
  },
  {
   "cell_type": "code",
   "execution_count": 14,
   "metadata": {},
   "outputs": [
    {
     "data": {
      "text/plain": [
       "'extracted_new/results/cot_random_samples_cohere_temp0/llama3'"
      ]
     },
     "execution_count": 14,
     "metadata": {},
     "output_type": "execute_result"
    }
   ],
   "source": [
    "new_path"
   ]
  },
  {
   "cell_type": "code",
   "execution_count": 15,
   "metadata": {},
   "outputs": [],
   "source": [
    "def get_dict(dataset):\n",
    "    if(dataset == 'ag_news'):\n",
    "        return news_labels\n",
    "    if(dataset == 'yahoo'):\n",
    "        return yahoo_labels\n",
    "    if(dataset == '20_newsgroups'):\n",
    "        return newsgroups_labels\n",
    "    if(dataset == 'social_media'):\n",
    "        return depression_labels\n",
    "    if(dataset == 'go_emotions'):\n",
    "        return emotion_labels\n",
    "    if(dataset == 'sst5'):\n",
    "        return rating_labels\n",
    "    "
   ]
  },
  {
   "cell_type": "code",
   "execution_count": 16,
   "metadata": {},
   "outputs": [],
   "source": [
    "labels = get_dict(dataset)"
   ]
  },
  {
   "cell_type": "code",
   "execution_count": 17,
   "metadata": {},
   "outputs": [
    {
     "data": {
      "text/plain": [
       "['rec.sport.hockey',\n",
       " 'soc.religion.christian',\n",
       " 'rec.sport.baseball',\n",
       " 'rec.motorcycles',\n",
       " 'sci.crypt',\n",
       " 'rec.autos',\n",
       " 'sci.med',\n",
       " 'sci.space',\n",
       " 'comp.os.ms-windows.misc',\n",
       " 'comp.sys.ibm.pc.hardware',\n",
       " 'sci.electronics',\n",
       " 'comp.windows.x',\n",
       " 'comp.graphics',\n",
       " 'misc.forsale',\n",
       " 'comp.sys.mac.hardware',\n",
       " 'talk.politics.mideast',\n",
       " 'talk.politics.guns',\n",
       " 'alt.atheism',\n",
       " 'talk.politics.misc',\n",
       " 'talk.religion.misc']"
      ]
     },
     "execution_count": 17,
     "metadata": {},
     "output_type": "execute_result"
    }
   ],
   "source": [
    "list(labels.keys())"
   ]
  },
  {
   "cell_type": "code",
   "execution_count": 18,
   "metadata": {},
   "outputs": [
    {
     "data": {
      "text/plain": [
       "'20_newsgroups'"
      ]
     },
     "execution_count": 18,
     "metadata": {},
     "output_type": "execute_result"
    }
   ],
   "source": [
    "dataset"
   ]
  },
  {
   "cell_type": "code",
   "execution_count": 19,
   "metadata": {},
   "outputs": [],
   "source": [
    "import os\n",
    "import pandas as pd\n",
    "import re\n",
    "\n",
    "def process_csv_files(folder_path, prefix, labels, save_path):\n",
    "    \"\"\"\n",
    "    Przetwarza pliki CSV w folderze, które zaczynają się od podanego prefixu.\n",
    "    Z kolumny 'output' wyodrębnia ostatnią wartość w nawiasach kwadratowych [ ],\n",
    "    zapisuje ją do 'extracted_label'. Następnie porównuje z listą `labels` i\n",
    "    jeśli nie pasuje, kopiuje wartość z 'extracted_label_by_llm' do\n",
    "    'extraction_complete', a jeśli pasuje, zostawia wartość z 'extracted_label'.\n",
    "\n",
    "    :param folder_path: Ścieżka do folderu z plikami CSV\n",
    "    :param prefix: Prefiks, wg którego filtrowane są pliki\n",
    "    :param labels: Lista poprawnych labeli\n",
    "    :param save_path: Folder, do którego zapisywane są przetworzone pliki\n",
    "    \"\"\"\n",
    "    # Upewnij się, że ścieżka docelowa istnieje\n",
    "    os.makedirs(save_path, exist_ok=True)\n",
    "    \n",
    "    def extract_last_square(text):\n",
    "        matches = re.findall(r'\\[([^\\[\\]]+?)\\]', str(text))\n",
    "        return matches[-1] if matches else None\n",
    "\n",
    "    for filename in os.listdir(folder_path):\n",
    "        if filename.startswith(prefix) and filename.endswith('.csv'):\n",
    "            file_path = os.path.join(folder_path, filename)\n",
    "            df = pd.read_csv(file_path)\n",
    "\n",
    "            # Wyciągnięcie etykiety z nawiasów kwadratowych\n",
    "            df['extracted_label'] = df['output'].apply(extract_last_square)\n",
    "\n",
    "            # Porównanie z poprawnymi labelami\n",
    "            def determine_extraction_complete(row):\n",
    "                return row['extracted_label_by_llm'] if str(row['extracted_label']) not in labels else row['extracted_label']\n",
    "\n",
    "            df['extraction_complete'] = df.apply(determine_extraction_complete, axis=1)\n",
    "            \n",
    "\n",
    "            # Zapis do pliku z oryginalną nazwą + _processed.csv\n",
    "            output_filename = os.path.splitext(filename)[0] + '.csv'\n",
    "            print(output_filename)\n",
    "            output_path = os.path.join(save_path, output_filename)\n",
    "            df.to_csv(output_path, index=False)\n",
    "            print(f\"Zapisano przetworzony plik: {output_path}\")\n"
   ]
  },
  {
   "cell_type": "code",
   "execution_count": 20,
   "metadata": {},
   "outputs": [
    {
     "name": "stdout",
     "output_type": "stream",
     "text": [
      "20_newsgroups_llama3_cot_random_samples_cohere_llama3_random42_80_temp0_exp1.csv\n",
      "Zapisano przetworzony plik: extracted_new/results/cot_random_samples_cohere_temp0/llama3/20_newsgroups_llama3_cot_random_samples_cohere_llama3_random42_80_temp0_exp1.csv\n"
     ]
    }
   ],
   "source": [
    "process_csv_files(path, dataset, list(labels.keys()), new_path )"
   ]
  },
  {
   "cell_type": "code",
   "execution_count": null,
   "metadata": {},
   "outputs": [],
   "source": []
  }
 ],
 "metadata": {
  "kernelspec": {
   "display_name": "anote",
   "language": "python",
   "name": "python3"
  },
  "language_info": {
   "codemirror_mode": {
    "name": "ipython",
    "version": 3
   },
   "file_extension": ".py",
   "mimetype": "text/x-python",
   "name": "python",
   "nbconvert_exporter": "python",
   "pygments_lexer": "ipython3",
   "version": "3.12.7"
  }
 },
 "nbformat": 4,
 "nbformat_minor": 2
}
