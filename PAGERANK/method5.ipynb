{
 "cells": [
  {
   "cell_type": "code",
   "execution_count": 1,
   "id": "ca9520fe",
   "metadata": {},
   "outputs": [
    {
     "name": "stderr",
     "output_type": "stream",
     "text": [
      "/home/julita/anaconda3/envs/anote/lib/python3.12/site-packages/tqdm/auto.py:21: TqdmWarning: IProgress not found. Please update jupyter and ipywidgets. See https://ipywidgets.readthedocs.io/en/stable/user_install.html\n",
      "  from .autonotebook import tqdm as notebook_tqdm\n"
     ]
    }
   ],
   "source": [
    "\n",
    "import pandas as pd\n",
    "import numpy as np\n",
    "from sentence_transformers import SentenceTransformer, InputExample, losses\n",
    "from torch.utils.data import DataLoader\n",
    "from sklearn.cluster import KMeans\n",
    "from sklearn.metrics import adjusted_rand_score\n",
    "from sklearn.preprocessing import normalize\n",
    "from sklearn.metrics.pairwise import cosine_distances\n",
    "from sklearn.neighbors import NearestNeighbors\n",
    "import umap\n",
    "import matplotlib.pyplot as plt\n",
    "\n",
    "df_full = pd.read_csv(\"../Adata/yahoo/train_subset.csv\").reset_index(drop=True)\n",
    "texts_full = df_full[\"text\"].tolist()\n",
    "labels_full = df_full[\"label\"].tolist()"
   ]
  },
  {
   "cell_type": "code",
   "execution_count": 2,
   "id": "7f6844d4",
   "metadata": {},
   "outputs": [],
   "source": [
    "model = SentenceTransformer('all-MiniLM-L6-v2')\n",
    "embeddings = model.encode(texts_full) "
   ]
  },
  {
   "cell_type": "code",
   "execution_count": 3,
   "id": "5d61269d",
   "metadata": {},
   "outputs": [],
   "source": [
    "import numpy as np\n",
    "\n",
    "# Przygotowanie sąsiedztw do pokrycia: dla każdego punktu określ listę innych próbek, które by pokrył \n",
    "# (np. wszystkie w odległości kosinusowej > delta)\n",
    "delta = 0.8\n",
    "N = len(embeddings)\n",
    "neighbors = [set() for _ in range(N)]\n",
    "for i in range(N):\n",
    "    for j in range(N):\n",
    "        if i == j:\n",
    "            continue\n",
    "        if np.dot(embeddings[i], embeddings[j]) > delta:\n",
    "            neighbors[i].add(j)\n",
    "\n",
    "B = 50  # budżet\n",
    "selected = []\n",
    "covered = set()\n",
    "while len(selected) < B:\n",
    "    best_gain = 0\n",
    "    best_idx = None\n",
    "    # znajdź punkt dający największy przyrost pokrycia\n",
    "    for i in range(N):\n",
    "        if i in selected:\n",
    "            continue\n",
    "        # policz ile nowych punktów pokryje dodanie i\n",
    "        gain = len(neighbors[i] - covered)\n",
    "        if gain > best_gain:\n",
    "            best_gain = gain\n",
    "            best_idx = i\n",
    "    if best_idx is None:\n",
    "        break\n",
    "    # dodaj best_idx do wybranych i zaktualizuj zbiór pokrytych\n",
    "    selected.append(best_idx)\n",
    "    covered |= neighbors[best_idx]\n",
    "\n",
    "# 'selected' zawiera indeksy wybranych próbek maksymalizujących pokrycie (dla zadanego delta).\n"
   ]
  },
  {
   "cell_type": "code",
   "execution_count": 4,
   "id": "32ea972b",
   "metadata": {},
   "outputs": [
    {
     "data": {
      "text/plain": [
       "[114, 933]"
      ]
     },
     "execution_count": 4,
     "metadata": {},
     "output_type": "execute_result"
    }
   ],
   "source": [
    "selected"
   ]
  }
 ],
 "metadata": {
  "kernelspec": {
   "display_name": "anote",
   "language": "python",
   "name": "python3"
  },
  "language_info": {
   "codemirror_mode": {
    "name": "ipython",
    "version": 3
   },
   "file_extension": ".py",
   "mimetype": "text/x-python",
   "name": "python",
   "nbconvert_exporter": "python",
   "pygments_lexer": "ipython3",
   "version": "3.12.7"
  }
 },
 "nbformat": 4,
 "nbformat_minor": 5
}
