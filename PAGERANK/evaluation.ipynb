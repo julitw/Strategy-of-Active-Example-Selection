{
 "cells": [
  {
   "cell_type": "code",
   "execution_count": 37,
   "metadata": {},
   "outputs": [],
   "source": [
    "import sys\n",
    "import os\n",
    "sys.path.append(os.path.abspath(os.path.join(os.getcwd(), '..')))\n",
    "from utils import evaluate_predictions_from_folders\n",
    "import pandas as pd"
   ]
  },
  {
   "cell_type": "code",
   "execution_count": 38,
   "metadata": {},
   "outputs": [],
   "source": [
    "pd.set_option('display.max_colwidth', None)"
   ]
  },
  {
   "cell_type": "markdown",
   "metadata": {},
   "source": []
  },
  {
   "cell_type": "code",
   "execution_count": 39,
   "metadata": {},
   "outputs": [],
   "source": [
    "\n",
    "folder_paths = ['results/emb_temp0/llama3']"
   ]
  },
  {
   "cell_type": "code",
   "execution_count": 40,
   "metadata": {},
   "outputs": [
    {
     "name": "stderr",
     "output_type": "stream",
     "text": [
      "/home/julita/anaconda3/envs/anote/lib/python3.12/site-packages/sklearn/metrics/_classification.py:1531: UndefinedMetricWarning: Recall is ill-defined and being set to 0.0 in labels with no true samples. Use `zero_division` parameter to control this behavior.\n",
      "  _warn_prf(average, modifier, f\"{metric.capitalize()} is\", len(result))\n",
      "/home/julita/anaconda3/envs/anote/lib/python3.12/site-packages/sklearn/metrics/_classification.py:1531: UndefinedMetricWarning: Recall is ill-defined and being set to 0.0 in labels with no true samples. Use `zero_division` parameter to control this behavior.\n",
      "  _warn_prf(average, modifier, f\"{metric.capitalize()} is\", len(result))\n",
      "/home/julita/anaconda3/envs/anote/lib/python3.12/site-packages/sklearn/metrics/_classification.py:1531: UndefinedMetricWarning: Recall is ill-defined and being set to 0.0 in labels with no true samples. Use `zero_division` parameter to control this behavior.\n",
      "  _warn_prf(average, modifier, f\"{metric.capitalize()} is\", len(result))\n"
     ]
    },
    {
     "data": {
      "text/html": [
       "<div>\n",
       "<style scoped>\n",
       "    .dataframe tbody tr th:only-of-type {\n",
       "        vertical-align: middle;\n",
       "    }\n",
       "\n",
       "    .dataframe tbody tr th {\n",
       "        vertical-align: top;\n",
       "    }\n",
       "\n",
       "    .dataframe thead th {\n",
       "        text-align: right;\n",
       "    }\n",
       "</style>\n",
       "<table border=\"1\" class=\"dataframe\">\n",
       "  <thead>\n",
       "    <tr style=\"text-align: right;\">\n",
       "      <th></th>\n",
       "      <th>file</th>\n",
       "      <th>accuracy</th>\n",
       "      <th>f1_score</th>\n",
       "      <th>recall</th>\n",
       "      <th>precision</th>\n",
       "    </tr>\n",
       "  </thead>\n",
       "  <tbody>\n",
       "    <tr>\n",
       "      <th>0</th>\n",
       "      <td>20_newsgroups_llama3_emb_page_rank_temp0_exp1.csv</td>\n",
       "      <td>0.716361</td>\n",
       "      <td>0.636621</td>\n",
       "      <td>0.640939</td>\n",
       "      <td>0.670656</td>\n",
       "    </tr>\n",
       "    <tr>\n",
       "      <th>4</th>\n",
       "      <td>ag_news_llama3_emb_page_rank_temp0_exp1.csv</td>\n",
       "      <td>0.880435</td>\n",
       "      <td>0.880567</td>\n",
       "      <td>0.880291</td>\n",
       "      <td>0.883227</td>\n",
       "    </tr>\n",
       "    <tr>\n",
       "      <th>2</th>\n",
       "      <td>go_emotions_llama3_emb_page_rank_temp0_exp1.csv</td>\n",
       "      <td>0.365441</td>\n",
       "      <td>0.219110</td>\n",
       "      <td>0.214818</td>\n",
       "      <td>0.275664</td>\n",
       "    </tr>\n",
       "    <tr>\n",
       "      <th>1</th>\n",
       "      <td>social_media_llama3_emb_page_rank_temp0_exp1.csv</td>\n",
       "      <td>0.650565</td>\n",
       "      <td>0.535716</td>\n",
       "      <td>0.544095</td>\n",
       "      <td>0.552391</td>\n",
       "    </tr>\n",
       "    <tr>\n",
       "      <th>3</th>\n",
       "      <td>sst5_llama3_emb_page_rank_temp0_exp1.csv</td>\n",
       "      <td>0.553191</td>\n",
       "      <td>0.251754</td>\n",
       "      <td>0.251172</td>\n",
       "      <td>0.273770</td>\n",
       "    </tr>\n",
       "    <tr>\n",
       "      <th>5</th>\n",
       "      <td>yahoo_llama3_emb_page_rank_temp0_exp1.csv</td>\n",
       "      <td>0.712766</td>\n",
       "      <td>0.708043</td>\n",
       "      <td>0.714109</td>\n",
       "      <td>0.722670</td>\n",
       "    </tr>\n",
       "  </tbody>\n",
       "</table>\n",
       "</div>"
      ],
      "text/plain": [
       "                                                file  accuracy  f1_score  \\\n",
       "0  20_newsgroups_llama3_emb_page_rank_temp0_exp1.csv  0.716361  0.636621   \n",
       "4        ag_news_llama3_emb_page_rank_temp0_exp1.csv  0.880435  0.880567   \n",
       "2    go_emotions_llama3_emb_page_rank_temp0_exp1.csv  0.365441  0.219110   \n",
       "1   social_media_llama3_emb_page_rank_temp0_exp1.csv  0.650565  0.535716   \n",
       "3           sst5_llama3_emb_page_rank_temp0_exp1.csv  0.553191  0.251754   \n",
       "5          yahoo_llama3_emb_page_rank_temp0_exp1.csv  0.712766  0.708043   \n",
       "\n",
       "     recall  precision  \n",
       "0  0.640939   0.670656  \n",
       "4  0.880291   0.883227  \n",
       "2  0.214818   0.275664  \n",
       "1  0.544095   0.552391  \n",
       "3  0.251172   0.273770  \n",
       "5  0.714109   0.722670  "
      ]
     },
     "execution_count": 40,
     "metadata": {},
     "output_type": "execute_result"
    }
   ],
   "source": [
    "df = evaluate_predictions_from_folders(folder_paths, True, 'original_label', 'output' )\n",
    "df.sort_values(by='file')"
   ]
  }
 ],
 "metadata": {
  "kernelspec": {
   "display_name": "anote",
   "language": "python",
   "name": "python3"
  },
  "language_info": {
   "codemirror_mode": {
    "name": "ipython",
    "version": 3
   },
   "file_extension": ".py",
   "mimetype": "text/x-python",
   "name": "python",
   "nbconvert_exporter": "python",
   "pygments_lexer": "ipython3",
   "version": "3.12.7"
  }
 },
 "nbformat": 4,
 "nbformat_minor": 2
}
