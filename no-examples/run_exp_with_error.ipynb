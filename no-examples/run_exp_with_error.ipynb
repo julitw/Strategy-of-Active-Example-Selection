{
 "cells": [
  {
   "cell_type": "code",
   "execution_count": 71,
   "metadata": {},
   "outputs": [],
   "source": [
    "import os \n",
    "import sys\n",
    "sys.path.append(os.path.abspath(os.path.join(os.getcwd(), '..')))\n",
    "import pandas as pd # type: ignore"
   ]
  },
  {
   "cell_type": "code",
   "execution_count": 72,
   "metadata": {},
   "outputs": [],
   "source": [
    "from utils import get_dataset, get_model_by_tag, get_prompt_template\n",
    "from LLMAnnotator import LLMAnnotator"
   ]
  },
  {
   "cell_type": "code",
   "execution_count": 73,
   "metadata": {},
   "outputs": [],
   "source": [
    "os.environ['OPENAI_API_KEY_CLARIN']=os.getenv(\"OPENAI_API_KEY_CLARIN\")\n",
    "os.environ[\"LANGCHAIN_API_KEY\"]=os.getenv(\"LANGCHAIN_API_KEY\")\n",
    "os.environ[\"LANGCHAIN_TRACING_V2\"]=\"true\"\n",
    "os.environ[\"LANGCHAIN_PROJECT\"]=os.getenv(\"LANGCHAIN_PROJECT\")\n",
    "\n",
    "token = os.getenv(\"OPENAI_API_KEY_CLARIN\")"
   ]
  },
  {
   "cell_type": "code",
   "execution_count": 74,
   "metadata": {},
   "outputs": [],
   "source": [
    "model_tag = 'gpt4omini'  \n",
    "dataset_tag = '20_newsgroups'\n",
    "prompt = 'no_samples'\n",
    "temp = 0\n",
    "number_of_experimet = 1"
   ]
  },
  {
   "cell_type": "code",
   "execution_count": 75,
   "metadata": {},
   "outputs": [],
   "source": [
    "model = get_model_by_tag(model_tag, token, temp)  \n",
    "dataset_for_annotation = get_dataset(dataset_tag=dataset_tag)\n",
    "prompt_txt = get_prompt_template(dataset_tag, prompt)\n",
    "examples_for_prompt = pd.DataFrame()\n",
    "\n",
    "output_path = f'./results/{prompt}_temp{temp}/{model_tag}/{dataset_tag}_{model_tag}_{prompt}_temp{temp}_exp{number_of_experimet}.csv'\n",
    "os.makedirs(f'./results/{prompt}_temp{temp}/{model_tag}', exist_ok=True)\n"
   ]
  },
  {
   "cell_type": "code",
   "execution_count": 76,
   "metadata": {},
   "outputs": [],
   "source": [
    "df_annotated = pd.read_csv(output_path)"
   ]
  },
  {
   "cell_type": "code",
   "execution_count": 77,
   "metadata": {},
   "outputs": [],
   "source": [
    "df_annotated = pd.read_csv(output_path)"
   ]
  },
  {
   "cell_type": "code",
   "execution_count": 78,
   "metadata": {},
   "outputs": [
    {
     "name": "stdout",
     "output_type": "stream",
     "text": [
      "[827]\n"
     ]
    }
   ],
   "source": [
    "not_nan_indices = df_annotated[~df_annotated['error'].isna()].index\n",
    "\n",
    "print(not_nan_indices.tolist())  "
   ]
  },
  {
   "cell_type": "code",
   "execution_count": 79,
   "metadata": {},
   "outputs": [
    {
     "data": {
      "text/html": [
       "<div>\n",
       "<style scoped>\n",
       "    .dataframe tbody tr th:only-of-type {\n",
       "        vertical-align: middle;\n",
       "    }\n",
       "\n",
       "    .dataframe tbody tr th {\n",
       "        vertical-align: top;\n",
       "    }\n",
       "\n",
       "    .dataframe thead th {\n",
       "        text-align: right;\n",
       "    }\n",
       "</style>\n",
       "<table border=\"1\" class=\"dataframe\">\n",
       "  <thead>\n",
       "    <tr style=\"text-align: right;\">\n",
       "      <th></th>\n",
       "      <th>text</th>\n",
       "      <th>output</th>\n",
       "      <th>logprobs</th>\n",
       "      <th>top_logprobs</th>\n",
       "      <th>original_label</th>\n",
       "      <th>error</th>\n",
       "    </tr>\n",
       "  </thead>\n",
       "  <tbody>\n",
       "    <tr>\n",
       "      <th>827</th>\n",
       "      <td>henry spencer writes article fred j mccall wri...</td>\n",
       "      <td>NaN</td>\n",
       "      <td>NaN</td>\n",
       "      <td>NaN</td>\n",
       "      <td>NaN</td>\n",
       "      <td>Max retries reached: 3</td>\n",
       "    </tr>\n",
       "  </tbody>\n",
       "</table>\n",
       "</div>"
      ],
      "text/plain": [
       "                                                  text output logprobs  \\\n",
       "827  henry spencer writes article fred j mccall wri...    NaN      NaN   \n",
       "\n",
       "    top_logprobs original_label                   error  \n",
       "827          NaN            NaN  Max retries reached: 3  "
      ]
     },
     "execution_count": 79,
     "metadata": {},
     "output_type": "execute_result"
    }
   ],
   "source": [
    "df_annotated[~df_annotated['error'].isna()]"
   ]
  },
  {
   "cell_type": "code",
   "execution_count": 80,
   "metadata": {},
   "outputs": [
    {
     "name": "stdout",
     "output_type": "stream",
     "text": [
      "         label                                               text\n",
      "827  sci.space  henry spencer writes article fred j mccall wri...\n"
     ]
    }
   ],
   "source": [
    "dataset_for_annotation_subset = dataset_for_annotation.loc[not_nan_indices]\n",
    "print(dataset_for_annotation_subset)\n"
   ]
  },
  {
   "cell_type": "code",
   "execution_count": 81,
   "metadata": {},
   "outputs": [],
   "source": [
    "# print(model, dataset_for_annotation, prompt_txt, examples_for_prompt, output_path)"
   ]
  },
  {
   "cell_type": "code",
   "execution_count": 82,
   "metadata": {},
   "outputs": [],
   "source": [
    "text_col = \"text\"\n",
    "label_col = \"label\"\n",
    "output_col = \"output\""
   ]
  },
  {
   "cell_type": "code",
   "execution_count": 83,
   "metadata": {},
   "outputs": [],
   "source": [
    "annotator = LLMAnnotator(\n",
    "    model=model,\n",
    "    dataset=dataset_for_annotation_subset,\n",
    "    examples_for_prompt=examples_for_prompt,\n",
    "    prompt_template=prompt_txt,\n",
    "    column_text=text_col,\n",
    "    column_label=label_col,\n",
    "    column_output=output_col\n",
    ")\n"
   ]
  },
  {
   "cell_type": "code",
   "execution_count": 84,
   "metadata": {},
   "outputs": [
    {
     "name": "stdout",
     "output_type": "stream",
     "text": [
      "Nr: 0 Predicted label: sci.space\n"
     ]
    }
   ],
   "source": [
    "df = annotator.get_results()"
   ]
  },
  {
   "cell_type": "code",
   "execution_count": 85,
   "metadata": {},
   "outputs": [
    {
     "data": {
      "text/plain": [
       "[{'text': 'henry spencer writes article fred j mccall writes given ive heard shuttle software rated level level many also keep mind achieved use sophisticated tools rather brute force ignorance attack problem challenger standdown simply threw hundreds people whole process hand think little inaccurate based feynmans account softwaredevelopment process standdown fred basically correct sophisticated tools lot effort painstaking care got one right challenger feynman cited software people exemplary compared engine people also noted software people starting feel management pressure cut corners hadnt give much yet among things software people worked hard get things right major preflight simulations considered failure simulations nearly bad inflight failure result number majorsimulation failures could counted one hand number inflight failures zero fred mentioned elsewhere applies flight software software runs experiments typically mostly put together experimenters gets nowhere near level tender loving care none experimenters could afford work one mans work henry spencer u toronto zoology kipling utzoohenry newssoftware ureply xxreferences henry spencer writes article fred j mccall writes given ive heard shuttle software rated level level many also keep mind achieved use sophisticated tools rather brute force ignorance attack problem challenger standdown simply threw hundreds people whole process hand think little inaccurate based feynmans account softwaredevelopment process standdown fred basically correct sophisticated tools lot effort painstaking care got one right challenger feynman cited software people exemplary compared engine people also noted software people starting feel management pressure cut corners hadnt give much yet fred mentioned elsewhere applies flight software software runs experiments typically mostly put together experimenters gets nowhere near level tender loving care couple points thread using processes since way challenger challenger self uncover flaws mr spencer says large true process dependent sophisticated tools case tools however tools cannot fix bad process also tool support hals shuttle language somewhat limited onboard flight software project rated level nasa team group generates kslocs verified code per year nasa feel free call organization interested info software development process bret wingert fax bret wingert fax',\n",
       "  'output': 'sci.space',\n",
       "  'logprobs': {'content': [{'token': 's',\n",
       "     'bytes': [115],\n",
       "     'logprob': -4.320199877838604e-07,\n",
       "     'top_logprobs': [{'token': 's',\n",
       "       'bytes': [115],\n",
       "       'logprob': -4.320199877838604e-07},\n",
       "      {'token': 'comp', 'bytes': [99, 111, 109, 112], 'logprob': -15.625},\n",
       "      {'token': 'talk', 'bytes': [116, 97, 108, 107], 'logprob': -15.625},\n",
       "      {'token': '-', 'bytes': [45], 'logprob': -16.875},\n",
       "      {'token': 'misc', 'bytes': [109, 105, 115, 99], 'logprob': -16.875},\n",
       "      {'token': 'rec', 'bytes': [114, 101, 99], 'logprob': -17.0},\n",
       "      {'token': ' sci', 'bytes': [32, 115, 99, 105], 'logprob': -18.0},\n",
       "      {'token': 'sc', 'bytes': [115, 99], 'logprob': -19.125},\n",
       "      {'token': 'sce', 'bytes': [115, 99, 101], 'logprob': -19.875},\n",
       "      {'token': 'Sci', 'bytes': [83, 99, 105], 'logprob': -19.875},\n",
       "      {'token': 'science',\n",
       "       'bytes': [115, 99, 105, 101, 110, 99, 101],\n",
       "       'logprob': -20.125},\n",
       "      {'token': '-s', 'bytes': [45, 115], 'logprob': -20.25},\n",
       "      {'token': 'scient',\n",
       "       'bytes': [115, 99, 105, 101, 110, 116],\n",
       "       'logprob': -20.625},\n",
       "      {'token': 'None', 'bytes': [78, 111, 110, 101], 'logprob': -20.75},\n",
       "      {'token': 'Talk', 'bytes': [84, 97, 108, 107], 'logprob': -20.75},\n",
       "      {'token': 'Misc', 'bytes': [77, 105, 115, 99], 'logprob': -21.25},\n",
       "      {'token': 'S', 'bytes': [83], 'logprob': -21.375},\n",
       "      {'token': 'Comp', 'bytes': [67, 111, 109, 112], 'logprob': -21.375},\n",
       "      {'token': 'SCI', 'bytes': [83, 67, 73], 'logprob': -22.0},\n",
       "      {'token': 'si', 'bytes': [115, 105], 'logprob': -22.75}]},\n",
       "    {'token': 'ci',\n",
       "     'bytes': [99, 105],\n",
       "     'logprob': -3.128163257315464e-07,\n",
       "     'top_logprobs': [{'token': 'ci',\n",
       "       'bytes': [99, 105],\n",
       "       'logprob': -3.128163257315464e-07},\n",
       "      {'token': ' sci', 'bytes': [32, 115, 99, 105], 'logprob': -15.5},\n",
       "      {'token': ' ci', 'bytes': [32, 99, 105], 'logprob': -18.5},\n",
       "      {'token': 'cii', 'bytes': [99, 105, 105], 'logprob': -19.5},\n",
       "      {'token': 'wi', 'bytes': [119, 105], 'logprob': -22.5},\n",
       "      {'token': 'CI', 'bytes': [67, 73], 'logprob': -22.625},\n",
       "      {'token': '_ci', 'bytes': [95, 99, 105], 'logprob': -22.625},\n",
       "      {'token': 'co', 'bytes': [99, 111], 'logprob': -23.0},\n",
       "      {'token': '-ci', 'bytes': [45, 99, 105], 'logprob': -23.0},\n",
       "      {'token': '(ci', 'bytes': [40, 99, 105], 'logprob': -23.375},\n",
       "      {'token': 'Ci', 'bytes': [67, 105], 'logprob': -23.75},\n",
       "      {'token': ' Sci', 'bytes': [32, 83, 99, 105], 'logprob': -23.75},\n",
       "      {'token': '.c', 'bytes': [46, 99], 'logprob': -24.125},\n",
       "      {'token': 'vi', 'bytes': [118, 105], 'logprob': -24.25},\n",
       "      {'token': 'ici', 'bytes': [105, 99, 105], 'logprob': -24.375},\n",
       "      {'token': 'ciem', 'bytes': [99, 105, 101, 109], 'logprob': -24.625},\n",
       "      {'token': 'ri', 'bytes': [114, 105], 'logprob': -24.75},\n",
       "      {'token': 'oci', 'bytes': [111, 99, 105], 'logprob': -24.875},\n",
       "      {'token': 'Sci', 'bytes': [83, 99, 105], 'logprob': -24.875},\n",
       "      {'token': 'ai', 'bytes': [97, 105], 'logprob': -25.25}]},\n",
       "    {'token': '.space',\n",
       "     'bytes': [46, 115, 112, 97, 99, 101],\n",
       "     'logprob': -2.7014437364414334e-05,\n",
       "     'top_logprobs': [{'token': '.space',\n",
       "       'bytes': [46, 115, 112, 97, 99, 101],\n",
       "       'logprob': -2.7014437364414334e-05},\n",
       "      {'token': '.cr', 'bytes': [46, 99, 114], 'logprob': -11.00002670288086},\n",
       "      {'token': '.Space',\n",
       "       'bytes': [46, 83, 112, 97, 99, 101],\n",
       "       'logprob': -12.50002670288086},\n",
       "      {'token': '_space',\n",
       "       'bytes': [95, 115, 112, 97, 99, 101],\n",
       "       'logprob': -13.62502670288086},\n",
       "      {'token': '.e', 'bytes': [46, 101], 'logprob': -13.75002670288086},\n",
       "      {'token': '.a', 'bytes': [46, 97], 'logprob': -13.87502670288086},\n",
       "      {'token': ' space',\n",
       "       'bytes': [32, 115, 112, 97, 99, 101],\n",
       "       'logprob': -14.12502670288086},\n",
       "      {'token': 'space',\n",
       "       'bytes': [115, 112, 97, 99, 101],\n",
       "       'logprob': -14.12502670288086},\n",
       "      {'token': 'Space',\n",
       "       'bytes': [83, 112, 97, 99, 101],\n",
       "       'logprob': -14.25002670288086},\n",
       "      {'token': '.c', 'bytes': [46, 99], 'logprob': -15.12502670288086},\n",
       "      {'token': '.', 'bytes': [46], 'logprob': -15.25002670288086},\n",
       "      {'token': '.sp', 'bytes': [46, 115, 112], 'logprob': -15.87502670288086},\n",
       "      {'token': '-space',\n",
       "       'bytes': [45, 115, 112, 97, 99, 101],\n",
       "       'logprob': -15.87502670288086},\n",
       "      {'token': '.med',\n",
       "       'bytes': [46, 109, 101, 100],\n",
       "       'logprob': -16.00002670288086},\n",
       "      {'token': '.tech',\n",
       "       'bytes': [46, 116, 101, 99, 104],\n",
       "       'logprob': -16.37502670288086},\n",
       "      {'token': '.engine',\n",
       "       'bytes': [46, 101, 110, 103, 105, 110, 101],\n",
       "       'logprob': -17.00002670288086},\n",
       "      {'token': '.n', 'bytes': [46, 110], 'logprob': -17.12502670288086},\n",
       "      {'token': '.sc', 'bytes': [46, 115, 99], 'logprob': -17.50002670288086},\n",
       "      {'token': ' Space',\n",
       "       'bytes': [32, 83, 112, 97, 99, 101],\n",
       "       'logprob': -17.62502670288086},\n",
       "      {'token': '(space',\n",
       "       'bytes': [40, 115, 112, 97, 99, 101],\n",
       "       'logprob': -17.87502670288086}]}],\n",
       "   'refusal': None},\n",
       "  'top_logprobs': [{'token': 's',\n",
       "    'bytes': [115],\n",
       "    'logprob': -4.320199877838604e-07},\n",
       "   {'token': 'comp', 'bytes': [99, 111, 109, 112], 'logprob': -15.625},\n",
       "   {'token': 'talk', 'bytes': [116, 97, 108, 107], 'logprob': -15.625},\n",
       "   {'token': '-', 'bytes': [45], 'logprob': -16.875},\n",
       "   {'token': 'misc', 'bytes': [109, 105, 115, 99], 'logprob': -16.875},\n",
       "   {'token': 'rec', 'bytes': [114, 101, 99], 'logprob': -17.0},\n",
       "   {'token': ' sci', 'bytes': [32, 115, 99, 105], 'logprob': -18.0},\n",
       "   {'token': 'sc', 'bytes': [115, 99], 'logprob': -19.125},\n",
       "   {'token': 'sce', 'bytes': [115, 99, 101], 'logprob': -19.875},\n",
       "   {'token': 'Sci', 'bytes': [83, 99, 105], 'logprob': -19.875},\n",
       "   {'token': 'science',\n",
       "    'bytes': [115, 99, 105, 101, 110, 99, 101],\n",
       "    'logprob': -20.125},\n",
       "   {'token': '-s', 'bytes': [45, 115], 'logprob': -20.25},\n",
       "   {'token': 'scient',\n",
       "    'bytes': [115, 99, 105, 101, 110, 116],\n",
       "    'logprob': -20.625},\n",
       "   {'token': 'None', 'bytes': [78, 111, 110, 101], 'logprob': -20.75},\n",
       "   {'token': 'Talk', 'bytes': [84, 97, 108, 107], 'logprob': -20.75},\n",
       "   {'token': 'Misc', 'bytes': [77, 105, 115, 99], 'logprob': -21.25},\n",
       "   {'token': 'S', 'bytes': [83], 'logprob': -21.375},\n",
       "   {'token': 'Comp', 'bytes': [67, 111, 109, 112], 'logprob': -21.375},\n",
       "   {'token': 'SCI', 'bytes': [83, 67, 73], 'logprob': -22.0},\n",
       "   {'token': 'si', 'bytes': [115, 105], 'logprob': -22.75}],\n",
       "  'original_label': 'sci.space'}]"
      ]
     },
     "execution_count": 85,
     "metadata": {},
     "output_type": "execute_result"
    }
   ],
   "source": [
    "df"
   ]
  },
  {
   "cell_type": "code",
   "execution_count": 86,
   "metadata": {},
   "outputs": [
    {
     "data": {
      "text/html": [
       "<div>\n",
       "<style scoped>\n",
       "    .dataframe tbody tr th:only-of-type {\n",
       "        vertical-align: middle;\n",
       "    }\n",
       "\n",
       "    .dataframe tbody tr th {\n",
       "        vertical-align: top;\n",
       "    }\n",
       "\n",
       "    .dataframe thead th {\n",
       "        text-align: right;\n",
       "    }\n",
       "</style>\n",
       "<table border=\"1\" class=\"dataframe\">\n",
       "  <thead>\n",
       "    <tr style=\"text-align: right;\">\n",
       "      <th></th>\n",
       "      <th>text</th>\n",
       "      <th>output</th>\n",
       "      <th>logprobs</th>\n",
       "      <th>top_logprobs</th>\n",
       "      <th>original_label</th>\n",
       "    </tr>\n",
       "  </thead>\n",
       "  <tbody>\n",
       "    <tr>\n",
       "      <th>0</th>\n",
       "      <td>henry spencer writes article fred j mccall wri...</td>\n",
       "      <td>sci.space</td>\n",
       "      <td>{'content': [{'token': 's', 'bytes': [115], 'l...</td>\n",
       "      <td>[{'token': 's', 'bytes': [115], 'logprob': -4....</td>\n",
       "      <td>sci.space</td>\n",
       "    </tr>\n",
       "  </tbody>\n",
       "</table>\n",
       "</div>"
      ],
      "text/plain": [
       "                                                text     output  \\\n",
       "0  henry spencer writes article fred j mccall wri...  sci.space   \n",
       "\n",
       "                                            logprobs  \\\n",
       "0  {'content': [{'token': 's', 'bytes': [115], 'l...   \n",
       "\n",
       "                                        top_logprobs original_label  \n",
       "0  [{'token': 's', 'bytes': [115], 'logprob': -4....      sci.space  "
      ]
     },
     "execution_count": 86,
     "metadata": {},
     "output_type": "execute_result"
    }
   ],
   "source": [
    "pd.DataFrame(df)"
   ]
  },
  {
   "cell_type": "code",
   "execution_count": 87,
   "metadata": {},
   "outputs": [],
   "source": [
    "df_new = pd.DataFrame(df)\n",
    "\n",
    "if 'error' not in df_new.columns:\n",
    "    df_annotated = df_annotated.drop('error', axis=1)\n",
    "    df_annotated.iloc[not_nan_indices]=df_new.values  \n",
    "    df_annotated.to_csv(output_path, index=False)"
   ]
  },
  {
   "cell_type": "code",
   "execution_count": 88,
   "metadata": {},
   "outputs": [
    {
     "data": {
      "text/html": [
       "<div>\n",
       "<style scoped>\n",
       "    .dataframe tbody tr th:only-of-type {\n",
       "        vertical-align: middle;\n",
       "    }\n",
       "\n",
       "    .dataframe tbody tr th {\n",
       "        vertical-align: top;\n",
       "    }\n",
       "\n",
       "    .dataframe thead th {\n",
       "        text-align: right;\n",
       "    }\n",
       "</style>\n",
       "<table border=\"1\" class=\"dataframe\">\n",
       "  <thead>\n",
       "    <tr style=\"text-align: right;\">\n",
       "      <th></th>\n",
       "      <th>text</th>\n",
       "      <th>output</th>\n",
       "      <th>logprobs</th>\n",
       "      <th>top_logprobs</th>\n",
       "      <th>original_label</th>\n",
       "    </tr>\n",
       "  </thead>\n",
       "  <tbody>\n",
       "    <tr>\n",
       "      <th>827</th>\n",
       "      <td>henry spencer writes article fred j mccall wri...</td>\n",
       "      <td>sci.space</td>\n",
       "      <td>{'content': [{'token': 's', 'bytes': [115], 'l...</td>\n",
       "      <td>[{'token': 's', 'bytes': [115], 'logprob': -4....</td>\n",
       "      <td>sci.space</td>\n",
       "    </tr>\n",
       "  </tbody>\n",
       "</table>\n",
       "</div>"
      ],
      "text/plain": [
       "                                                  text     output  \\\n",
       "827  henry spencer writes article fred j mccall wri...  sci.space   \n",
       "\n",
       "                                              logprobs  \\\n",
       "827  {'content': [{'token': 's', 'bytes': [115], 'l...   \n",
       "\n",
       "                                          top_logprobs original_label  \n",
       "827  [{'token': 's', 'bytes': [115], 'logprob': -4....      sci.space  "
      ]
     },
     "execution_count": 88,
     "metadata": {},
     "output_type": "execute_result"
    }
   ],
   "source": [
    "df_annotated.iloc[not_nan_indices]"
   ]
  },
  {
   "cell_type": "code",
   "execution_count": 89,
   "metadata": {},
   "outputs": [
    {
     "data": {
      "text/html": [
       "<div>\n",
       "<style scoped>\n",
       "    .dataframe tbody tr th:only-of-type {\n",
       "        vertical-align: middle;\n",
       "    }\n",
       "\n",
       "    .dataframe tbody tr th {\n",
       "        vertical-align: top;\n",
       "    }\n",
       "\n",
       "    .dataframe thead th {\n",
       "        text-align: right;\n",
       "    }\n",
       "</style>\n",
       "<table border=\"1\" class=\"dataframe\">\n",
       "  <thead>\n",
       "    <tr style=\"text-align: right;\">\n",
       "      <th></th>\n",
       "      <th>text</th>\n",
       "      <th>output</th>\n",
       "      <th>logprobs</th>\n",
       "      <th>top_logprobs</th>\n",
       "      <th>original_label</th>\n",
       "    </tr>\n",
       "  </thead>\n",
       "  <tbody>\n",
       "    <tr>\n",
       "      <th>0</th>\n",
       "      <td>article ashish arora writes excerpts netnewssc...</td>\n",
       "      <td>talk.politics.misc</td>\n",
       "      <td>{'content': [{'token': 'talk', 'bytes': [116, ...</td>\n",
       "      <td>[{'token': 'talk', 'bytes': [116, 97, 108, 107...</td>\n",
       "      <td>talk.politics.misc</td>\n",
       "    </tr>\n",
       "    <tr>\n",
       "      <th>1</th>\n",
       "      <td>gateway telepath modem month actually one woul...</td>\n",
       "      <td>comp.os.ms-windows.misc</td>\n",
       "      <td>{'content': [{'token': 'comp', 'bytes': [99, 1...</td>\n",
       "      <td>[{'token': 'comp', 'bytes': [99, 111, 109, 112...</td>\n",
       "      <td>comp.sys.ibm.pc.hardware</td>\n",
       "    </tr>\n",
       "    <tr>\n",
       "      <th>2</th>\n",
       "      <td>anybody provide advice concerning following tw...</td>\n",
       "      <td>sci.med</td>\n",
       "      <td>{'content': [{'token': 's', 'bytes': [115], 'l...</td>\n",
       "      <td>[{'token': 's', 'bytes': [115], 'logprob': 0.0...</td>\n",
       "      <td>sci.med</td>\n",
       "    </tr>\n",
       "    <tr>\n",
       "      <th>3</th>\n",
       "      <td>article mike silverman writes anybody know goi...</td>\n",
       "      <td>rec.sport.baseball</td>\n",
       "      <td>{'content': [{'token': 'rec', 'bytes': [114, 1...</td>\n",
       "      <td>[{'token': 'rec', 'bytes': [114, 101, 99], 'lo...</td>\n",
       "      <td>rec.sport.baseball</td>\n",
       "    </tr>\n",
       "    <tr>\n",
       "      <th>4</th>\n",
       "      <td>article stich christian e writes installed mot...</td>\n",
       "      <td>comp.sys.ibm.pc.hardware</td>\n",
       "      <td>{'content': [{'token': 'comp', 'bytes': [99, 1...</td>\n",
       "      <td>[{'token': 'comp', 'bytes': [99, 111, 109, 112...</td>\n",
       "      <td>sci.electronics</td>\n",
       "    </tr>\n",
       "    <tr>\n",
       "      <th>...</th>\n",
       "      <td>...</td>\n",
       "      <td>...</td>\n",
       "      <td>...</td>\n",
       "      <td>...</td>\n",
       "      <td>...</td>\n",
       "    </tr>\n",
       "    <tr>\n",
       "      <th>1995</th>\n",
       "      <td>david sternlight writes article karl barrus wr...</td>\n",
       "      <td>talk.politics.misc</td>\n",
       "      <td>{'content': [{'token': 'talk', 'bytes': [116, ...</td>\n",
       "      <td>[{'token': 'talk', 'bytes': [116, 97, 108, 107...</td>\n",
       "      <td>sci.crypt</td>\n",
       "    </tr>\n",
       "    <tr>\n",
       "      <th>1996</th>\n",
       "      <td>hello im looking information alphanumeric page...</td>\n",
       "      <td>sci.electronics</td>\n",
       "      <td>{'content': [{'token': 's', 'bytes': [115], 'l...</td>\n",
       "      <td>[{'token': 's', 'bytes': [115], 'logprob': -1....</td>\n",
       "      <td>sci.electronics</td>\n",
       "    </tr>\n",
       "    <tr>\n",
       "      <th>1997</th>\n",
       "      <td>john r daker writes would like offocially nomi...</td>\n",
       "      <td>rec.motorcycles</td>\n",
       "      <td>{'content': [{'token': 'rec', 'bytes': [114, 1...</td>\n",
       "      <td>[{'token': 'rec', 'bytes': [114, 101, 99], 'lo...</td>\n",
       "      <td>rec.motorcycles</td>\n",
       "    </tr>\n",
       "    <tr>\n",
       "      <th>1998</th>\n",
       "      <td>article writes looking information concerning ...</td>\n",
       "      <td>sci.space</td>\n",
       "      <td>{'content': [{'token': 's', 'bytes': [115], 'l...</td>\n",
       "      <td>[{'token': 's', 'bytes': [115], 'logprob': 0.0...</td>\n",
       "      <td>sci.space</td>\n",
       "    </tr>\n",
       "    <tr>\n",
       "      <th>1999</th>\n",
       "      <td>steve brinich writes flaming libertarian paran...</td>\n",
       "      <td>talk.politics.misc</td>\n",
       "      <td>{'content': [{'token': 'talk', 'bytes': [116, ...</td>\n",
       "      <td>[{'token': 'talk', 'bytes': [116, 97, 108, 107...</td>\n",
       "      <td>sci.crypt</td>\n",
       "    </tr>\n",
       "  </tbody>\n",
       "</table>\n",
       "<p>2000 rows × 5 columns</p>\n",
       "</div>"
      ],
      "text/plain": [
       "                                                   text  \\\n",
       "0     article ashish arora writes excerpts netnewssc...   \n",
       "1     gateway telepath modem month actually one woul...   \n",
       "2     anybody provide advice concerning following tw...   \n",
       "3     article mike silverman writes anybody know goi...   \n",
       "4     article stich christian e writes installed mot...   \n",
       "...                                                 ...   \n",
       "1995  david sternlight writes article karl barrus wr...   \n",
       "1996  hello im looking information alphanumeric page...   \n",
       "1997  john r daker writes would like offocially nomi...   \n",
       "1998  article writes looking information concerning ...   \n",
       "1999  steve brinich writes flaming libertarian paran...   \n",
       "\n",
       "                        output  \\\n",
       "0           talk.politics.misc   \n",
       "1      comp.os.ms-windows.misc   \n",
       "2                      sci.med   \n",
       "3           rec.sport.baseball   \n",
       "4     comp.sys.ibm.pc.hardware   \n",
       "...                        ...   \n",
       "1995        talk.politics.misc   \n",
       "1996           sci.electronics   \n",
       "1997           rec.motorcycles   \n",
       "1998                 sci.space   \n",
       "1999        talk.politics.misc   \n",
       "\n",
       "                                               logprobs  \\\n",
       "0     {'content': [{'token': 'talk', 'bytes': [116, ...   \n",
       "1     {'content': [{'token': 'comp', 'bytes': [99, 1...   \n",
       "2     {'content': [{'token': 's', 'bytes': [115], 'l...   \n",
       "3     {'content': [{'token': 'rec', 'bytes': [114, 1...   \n",
       "4     {'content': [{'token': 'comp', 'bytes': [99, 1...   \n",
       "...                                                 ...   \n",
       "1995  {'content': [{'token': 'talk', 'bytes': [116, ...   \n",
       "1996  {'content': [{'token': 's', 'bytes': [115], 'l...   \n",
       "1997  {'content': [{'token': 'rec', 'bytes': [114, 1...   \n",
       "1998  {'content': [{'token': 's', 'bytes': [115], 'l...   \n",
       "1999  {'content': [{'token': 'talk', 'bytes': [116, ...   \n",
       "\n",
       "                                           top_logprobs  \\\n",
       "0     [{'token': 'talk', 'bytes': [116, 97, 108, 107...   \n",
       "1     [{'token': 'comp', 'bytes': [99, 111, 109, 112...   \n",
       "2     [{'token': 's', 'bytes': [115], 'logprob': 0.0...   \n",
       "3     [{'token': 'rec', 'bytes': [114, 101, 99], 'lo...   \n",
       "4     [{'token': 'comp', 'bytes': [99, 111, 109, 112...   \n",
       "...                                                 ...   \n",
       "1995  [{'token': 'talk', 'bytes': [116, 97, 108, 107...   \n",
       "1996  [{'token': 's', 'bytes': [115], 'logprob': -1....   \n",
       "1997  [{'token': 'rec', 'bytes': [114, 101, 99], 'lo...   \n",
       "1998  [{'token': 's', 'bytes': [115], 'logprob': 0.0...   \n",
       "1999  [{'token': 'talk', 'bytes': [116, 97, 108, 107...   \n",
       "\n",
       "                original_label  \n",
       "0           talk.politics.misc  \n",
       "1     comp.sys.ibm.pc.hardware  \n",
       "2                      sci.med  \n",
       "3           rec.sport.baseball  \n",
       "4              sci.electronics  \n",
       "...                        ...  \n",
       "1995                 sci.crypt  \n",
       "1996           sci.electronics  \n",
       "1997           rec.motorcycles  \n",
       "1998                 sci.space  \n",
       "1999                 sci.crypt  \n",
       "\n",
       "[2000 rows x 5 columns]"
      ]
     },
     "execution_count": 89,
     "metadata": {},
     "output_type": "execute_result"
    }
   ],
   "source": [
    "df_annotated"
   ]
  },
  {
   "cell_type": "code",
   "execution_count": 90,
   "metadata": {},
   "outputs": [],
   "source": [
    "# annotator.save_results(output_path=output_path)"
   ]
  },
  {
   "cell_type": "code",
   "execution_count": 91,
   "metadata": {},
   "outputs": [],
   "source": [
    "# df = pd.read_csv(output_path)\n",
    "# df"
   ]
  },
  {
   "cell_type": "code",
   "execution_count": null,
   "metadata": {},
   "outputs": [],
   "source": []
  }
 ],
 "metadata": {
  "kernelspec": {
   "display_name": "anote",
   "language": "python",
   "name": "python3"
  },
  "language_info": {
   "codemirror_mode": {
    "name": "ipython",
    "version": 3
   },
   "file_extension": ".py",
   "mimetype": "text/x-python",
   "name": "python",
   "nbconvert_exporter": "python",
   "pygments_lexer": "ipython3",
   "version": "3.12.7"
  }
 },
 "nbformat": 4,
 "nbformat_minor": 2
}
